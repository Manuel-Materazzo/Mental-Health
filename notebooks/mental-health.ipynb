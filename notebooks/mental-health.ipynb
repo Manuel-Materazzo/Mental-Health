{
 "cells": [
  {
   "cell_type": "markdown",
   "id": "23099757",
   "metadata": {
    "papermill": {
     "duration": 0.007287,
     "end_time": "2024-11-26T19:31:39.068506",
     "exception": false,
     "start_time": "2024-11-26T19:31:39.061219",
     "status": "completed"
    },
    "tags": []
   },
   "source": [
    "### Setup"
   ]
  },
  {
   "cell_type": "code",
   "execution_count": 1,
   "id": "d375b083",
   "metadata": {
    "_cell_guid": "b1076dfc-b9ad-4769-8c92-a6c4dae69d19",
    "_uuid": "8f2839f25d086af736a60e9eeb907d3b93b6e0e5",
    "execution": {
     "iopub.execute_input": "2024-11-26T19:31:39.083666Z",
     "iopub.status.busy": "2024-11-26T19:31:39.083267Z",
     "iopub.status.idle": "2024-11-26T19:33:10.978633Z",
     "shell.execute_reply": "2024-11-26T19:33:10.977337Z"
    },
    "papermill": {
     "duration": 91.905631,
     "end_time": "2024-11-26T19:33:10.981243",
     "exception": false,
     "start_time": "2024-11-26T19:31:39.075612",
     "status": "completed"
    },
    "tags": []
   },
   "outputs": [
    {
     "name": "stdout",
     "output_type": "stream",
     "text": [
      "Initialized empty Git repository in /kaggle/working/.git/\r\n",
      "Pulling...\n",
      "Installing dependencies...\n",
      "\u001b[31mERROR: pip's dependency resolver does not currently take into account all the packages that are installed. This behaviour is the source of the following dependency conflicts.\r\n",
      "aiobotocore 2.15.1 requires botocore<1.35.24,>=1.35.16, but you have botocore 1.35.69 which is incompatible.\r\n",
      "albucore 0.0.17 requires numpy>=1.24, but you have numpy 1.23.5 which is incompatible.\r\n",
      "albumentations 1.4.17 requires numpy>=1.24.4, but you have numpy 1.23.5 which is incompatible.\r\n",
      "apache-beam 2.46.0 requires cloudpickle~=2.2.1, but you have cloudpickle 3.0.0 which is incompatible.\r\n",
      "apache-beam 2.46.0 requires dill<0.3.2,>=0.3.1.1, but you have dill 0.3.8 which is incompatible.\r\n",
      "apache-beam 2.46.0 requires pyarrow<10.0.0,>=3.0.0, but you have pyarrow 17.0.0 which is incompatible.\r\n",
      "bayesian-optimization 1.5.1 requires numpy>=1.25, but you have numpy 1.23.5 which is incompatible.\r\n",
      "beatrix-jupyterlab 2024.66.154055 requires jupyterlab~=3.6.0, but you have jupyterlab 4.2.5 which is incompatible.\r\n",
      "bigframes 0.22.0 requires google-cloud-bigquery[bqstorage,pandas]>=3.10.0, but you have google-cloud-bigquery 2.34.4 which is incompatible.\r\n",
      "bigframes 0.22.0 requires google-cloud-storage>=2.0.0, but you have google-cloud-storage 1.44.0 which is incompatible.\r\n",
      "bigframes 0.22.0 requires pandas<2.1.4,>=1.5.0, but you have pandas 2.2.3 which is incompatible.\r\n",
      "blis 1.0.1 requires numpy<3.0.0,>=2.0.0, but you have numpy 1.23.5 which is incompatible.\r\n",
      "cesium 0.12.3 requires numpy<3.0,>=2.0, but you have numpy 1.23.5 which is incompatible.\r\n",
      "chex 0.1.87 requires numpy>=1.24.1, but you have numpy 1.23.5 which is incompatible.\r\n",
      "conda 24.9.0 requires packaging>=23.0, but you have packaging 21.3 which is incompatible.\r\n",
      "dataproc-jupyter-plugin 0.1.79 requires pydantic~=1.10.0, but you have pydantic 2.9.2 which is incompatible.\r\n",
      "featuretools 1.31.0 requires numpy>=1.25.0, but you have numpy 1.23.5 which is incompatible.\r\n",
      "gensim 4.3.3 requires scipy<1.14.0,>=1.7.0, but you have scipy 1.14.1 which is incompatible.\r\n",
      "ibis-framework 7.1.0 requires pyarrow<15,>=2, but you have pyarrow 17.0.0 which is incompatible.\r\n",
      "jax 0.4.33 requires numpy>=1.24, but you have numpy 1.23.5 which is incompatible.\r\n",
      "jaxlib 0.4.33 requires numpy>=1.24, but you have numpy 1.23.5 which is incompatible.\r\n",
      "jupyterlab 4.2.5 requires jupyter-lsp>=2.0.0, but you have jupyter-lsp 1.5.1 which is incompatible.\r\n",
      "jupyterlab-lsp 5.1.0 requires jupyter-lsp>=2.0.0, but you have jupyter-lsp 1.5.1 which is incompatible.\r\n",
      "libpysal 4.9.2 requires packaging>=22, but you have packaging 21.3 which is incompatible.\r\n",
      "libpysal 4.9.2 requires shapely>=2.0.1, but you have shapely 1.8.5.post1 which is incompatible.\r\n",
      "pyldavis 3.4.1 requires numpy>=1.24.2, but you have numpy 1.23.5 which is incompatible.\r\n",
      "thinc 8.3.2 requires numpy<2.1.0,>=2.0.0; python_version >= \"3.9\", but you have numpy 1.23.5 which is incompatible.\r\n",
      "virtualenv 20.21.0 requires platformdirs<4,>=2.4, but you have platformdirs 4.3.6 which is incompatible.\r\n",
      "woodwork 0.31.0 requires numpy>=1.25.0, but you have numpy 1.23.5 which is incompatible.\r\n",
      "xarray 2024.9.0 requires numpy>=1.24, but you have numpy 1.23.5 which is incompatible.\r\n",
      "xarray 2024.9.0 requires packaging>=23.1, but you have packaging 21.3 which is incompatible.\r\n",
      "ydata-profiling 4.10.0 requires scipy<1.14,>=1.4.1, but you have scipy 1.14.1 which is incompatible.\u001b[0m\u001b[31m\r\n",
      "\u001b[0mLoading data...\n",
      "Done ✅\n"
     ]
    }
   ],
   "source": [
    "import os\n",
    "import re\n",
    "import pandas as pd\n",
    "import numpy as np\n",
    "import seaborn as sns\n",
    "import matplotlib.pyplot as plt\n",
    "\n",
    "if not os.path.isdir('src'):\n",
    "    !git init .\n",
    "    !git remote add origin https://github.com/Manuel-Materazzo/Mental-Health.git\n",
    "\n",
    "print('Pulling...')\n",
    "!git pull origin master -q\n",
    "\n",
    "print('Installing dependencies...')\n",
    "!pip install -r /kaggle/working/src/requirements.txt -q\n",
    "\n",
    "from src.enums.accuracy_metric import AccuracyMetric\n",
    "\n",
    "from src.pipelines.mental_health_dt_pipeline import MentalHealthDTPipeline\n",
    "\n",
    "from src.models.xgb_classifier import XGBClassifierWrapper\n",
    "\n",
    "from src.trainers.accurate_cross_trainer import AccurateCrossTrainer\n",
    "from src.trainers.cached_accurate_cross_trainer import CachedAccurateCrossTrainer\n",
    "\n",
    "from src.hyperparameter_optimizers.optuna_optimizer import OptunaOptimizer\n",
    "from src.hyperparameter_optimizers.custom_grid_optimizer import CustomGridOptimizer\n",
    "\n",
    "pd.set_option('display.max_columns', None)\n",
    "\n",
    "def load_data():\n",
    "    # Load the data\n",
    "    file_path = '/kaggle/input/playground-series-s4e11/train.csv'\n",
    "    data = pd.read_csv(file_path, index_col='id')\n",
    "    data = data.rename(columns=lambda x: re.sub('[^A-Za-z0-9_]+', '_', x))\n",
    "    \n",
    "    # Remove rows with missing target, separate target from predictors\n",
    "    data.dropna(axis=0, subset=['Depression'], inplace=True)\n",
    "    y = data['Depression']\n",
    "    data.drop(['Depression'], axis=1, inplace=True)\n",
    "    data.drop(['Name'], axis=1, inplace=True)\n",
    "    data.drop(['City'], axis=1, inplace=True)\n",
    "    return data, y\n",
    "\n",
    "print('Loading data...')\n",
    "X, y = load_data()\n",
    "print('Done ✅')"
   ]
  },
  {
   "cell_type": "markdown",
   "id": "f13bf679",
   "metadata": {
    "papermill": {
     "duration": 0.006393,
     "end_time": "2024-11-26T19:33:10.994285",
     "exception": false,
     "start_time": "2024-11-26T19:33:10.987892",
     "status": "completed"
    },
    "tags": []
   },
   "source": [
    "## Explore Data"
   ]
  },
  {
   "cell_type": "code",
   "execution_count": 2,
   "id": "23c9c7e7",
   "metadata": {
    "execution": {
     "iopub.execute_input": "2024-11-26T19:33:11.011613Z",
     "iopub.status.busy": "2024-11-26T19:33:11.010466Z",
     "iopub.status.idle": "2024-11-26T19:33:11.037142Z",
     "shell.execute_reply": "2024-11-26T19:33:11.035927Z"
    },
    "papermill": {
     "duration": 0.038516,
     "end_time": "2024-11-26T19:33:11.039419",
     "exception": false,
     "start_time": "2024-11-26T19:33:11.000903",
     "status": "completed"
    },
    "tags": []
   },
   "outputs": [
    {
     "data": {
      "text/html": [
       "<div>\n",
       "<style scoped>\n",
       "    .dataframe tbody tr th:only-of-type {\n",
       "        vertical-align: middle;\n",
       "    }\n",
       "\n",
       "    .dataframe tbody tr th {\n",
       "        vertical-align: top;\n",
       "    }\n",
       "\n",
       "    .dataframe thead th {\n",
       "        text-align: right;\n",
       "    }\n",
       "</style>\n",
       "<table border=\"1\" class=\"dataframe\">\n",
       "  <thead>\n",
       "    <tr style=\"text-align: right;\">\n",
       "      <th></th>\n",
       "      <th>Gender</th>\n",
       "      <th>Age</th>\n",
       "      <th>Working_Professional_or_Student</th>\n",
       "      <th>Profession</th>\n",
       "      <th>Academic_Pressure</th>\n",
       "      <th>Work_Pressure</th>\n",
       "      <th>CGPA</th>\n",
       "      <th>Study_Satisfaction</th>\n",
       "      <th>Job_Satisfaction</th>\n",
       "      <th>Sleep_Duration</th>\n",
       "      <th>Dietary_Habits</th>\n",
       "      <th>Degree</th>\n",
       "      <th>Have_you_ever_had_suicidal_thoughts_</th>\n",
       "      <th>Work_Study_Hours</th>\n",
       "      <th>Financial_Stress</th>\n",
       "      <th>Family_History_of_Mental_Illness</th>\n",
       "    </tr>\n",
       "    <tr>\n",
       "      <th>id</th>\n",
       "      <th></th>\n",
       "      <th></th>\n",
       "      <th></th>\n",
       "      <th></th>\n",
       "      <th></th>\n",
       "      <th></th>\n",
       "      <th></th>\n",
       "      <th></th>\n",
       "      <th></th>\n",
       "      <th></th>\n",
       "      <th></th>\n",
       "      <th></th>\n",
       "      <th></th>\n",
       "      <th></th>\n",
       "      <th></th>\n",
       "      <th></th>\n",
       "    </tr>\n",
       "  </thead>\n",
       "  <tbody>\n",
       "    <tr>\n",
       "      <th>0</th>\n",
       "      <td>Female</td>\n",
       "      <td>49.0</td>\n",
       "      <td>Working Professional</td>\n",
       "      <td>Chef</td>\n",
       "      <td>NaN</td>\n",
       "      <td>5.0</td>\n",
       "      <td>NaN</td>\n",
       "      <td>NaN</td>\n",
       "      <td>2.0</td>\n",
       "      <td>More than 8 hours</td>\n",
       "      <td>Healthy</td>\n",
       "      <td>BHM</td>\n",
       "      <td>No</td>\n",
       "      <td>1.0</td>\n",
       "      <td>2.0</td>\n",
       "      <td>No</td>\n",
       "    </tr>\n",
       "    <tr>\n",
       "      <th>1</th>\n",
       "      <td>Male</td>\n",
       "      <td>26.0</td>\n",
       "      <td>Working Professional</td>\n",
       "      <td>Teacher</td>\n",
       "      <td>NaN</td>\n",
       "      <td>4.0</td>\n",
       "      <td>NaN</td>\n",
       "      <td>NaN</td>\n",
       "      <td>3.0</td>\n",
       "      <td>Less than 5 hours</td>\n",
       "      <td>Unhealthy</td>\n",
       "      <td>LLB</td>\n",
       "      <td>Yes</td>\n",
       "      <td>7.0</td>\n",
       "      <td>3.0</td>\n",
       "      <td>No</td>\n",
       "    </tr>\n",
       "    <tr>\n",
       "      <th>2</th>\n",
       "      <td>Male</td>\n",
       "      <td>33.0</td>\n",
       "      <td>Student</td>\n",
       "      <td>NaN</td>\n",
       "      <td>5.0</td>\n",
       "      <td>NaN</td>\n",
       "      <td>8.97</td>\n",
       "      <td>2.0</td>\n",
       "      <td>NaN</td>\n",
       "      <td>5-6 hours</td>\n",
       "      <td>Healthy</td>\n",
       "      <td>B.Pharm</td>\n",
       "      <td>Yes</td>\n",
       "      <td>3.0</td>\n",
       "      <td>1.0</td>\n",
       "      <td>No</td>\n",
       "    </tr>\n",
       "    <tr>\n",
       "      <th>3</th>\n",
       "      <td>Male</td>\n",
       "      <td>22.0</td>\n",
       "      <td>Working Professional</td>\n",
       "      <td>Teacher</td>\n",
       "      <td>NaN</td>\n",
       "      <td>5.0</td>\n",
       "      <td>NaN</td>\n",
       "      <td>NaN</td>\n",
       "      <td>1.0</td>\n",
       "      <td>Less than 5 hours</td>\n",
       "      <td>Moderate</td>\n",
       "      <td>BBA</td>\n",
       "      <td>Yes</td>\n",
       "      <td>10.0</td>\n",
       "      <td>1.0</td>\n",
       "      <td>Yes</td>\n",
       "    </tr>\n",
       "    <tr>\n",
       "      <th>4</th>\n",
       "      <td>Female</td>\n",
       "      <td>30.0</td>\n",
       "      <td>Working Professional</td>\n",
       "      <td>Business Analyst</td>\n",
       "      <td>NaN</td>\n",
       "      <td>1.0</td>\n",
       "      <td>NaN</td>\n",
       "      <td>NaN</td>\n",
       "      <td>1.0</td>\n",
       "      <td>5-6 hours</td>\n",
       "      <td>Unhealthy</td>\n",
       "      <td>BBA</td>\n",
       "      <td>Yes</td>\n",
       "      <td>9.0</td>\n",
       "      <td>4.0</td>\n",
       "      <td>Yes</td>\n",
       "    </tr>\n",
       "  </tbody>\n",
       "</table>\n",
       "</div>"
      ],
      "text/plain": [
       "    Gender   Age Working_Professional_or_Student        Profession  \\\n",
       "id                                                                   \n",
       "0   Female  49.0            Working Professional              Chef   \n",
       "1     Male  26.0            Working Professional           Teacher   \n",
       "2     Male  33.0                         Student               NaN   \n",
       "3     Male  22.0            Working Professional           Teacher   \n",
       "4   Female  30.0            Working Professional  Business Analyst   \n",
       "\n",
       "    Academic_Pressure  Work_Pressure  CGPA  Study_Satisfaction  \\\n",
       "id                                                               \n",
       "0                 NaN            5.0   NaN                 NaN   \n",
       "1                 NaN            4.0   NaN                 NaN   \n",
       "2                 5.0            NaN  8.97                 2.0   \n",
       "3                 NaN            5.0   NaN                 NaN   \n",
       "4                 NaN            1.0   NaN                 NaN   \n",
       "\n",
       "    Job_Satisfaction     Sleep_Duration Dietary_Habits   Degree  \\\n",
       "id                                                                \n",
       "0                2.0  More than 8 hours        Healthy      BHM   \n",
       "1                3.0  Less than 5 hours      Unhealthy      LLB   \n",
       "2                NaN          5-6 hours        Healthy  B.Pharm   \n",
       "3                1.0  Less than 5 hours       Moderate      BBA   \n",
       "4                1.0          5-6 hours      Unhealthy      BBA   \n",
       "\n",
       "   Have_you_ever_had_suicidal_thoughts_  Work_Study_Hours  Financial_Stress  \\\n",
       "id                                                                            \n",
       "0                                    No               1.0               2.0   \n",
       "1                                   Yes               7.0               3.0   \n",
       "2                                   Yes               3.0               1.0   \n",
       "3                                   Yes              10.0               1.0   \n",
       "4                                   Yes               9.0               4.0   \n",
       "\n",
       "   Family_History_of_Mental_Illness  \n",
       "id                                   \n",
       "0                                No  \n",
       "1                                No  \n",
       "2                                No  \n",
       "3                               Yes  \n",
       "4                               Yes  "
      ]
     },
     "execution_count": 2,
     "metadata": {},
     "output_type": "execute_result"
    }
   ],
   "source": [
    "X.head()"
   ]
  },
  {
   "cell_type": "code",
   "execution_count": 3,
   "id": "6e5c8c3b",
   "metadata": {
    "execution": {
     "iopub.execute_input": "2024-11-26T19:33:11.055182Z",
     "iopub.status.busy": "2024-11-26T19:33:11.054753Z",
     "iopub.status.idle": "2024-11-26T19:33:11.271603Z",
     "shell.execute_reply": "2024-11-26T19:33:11.270290Z"
    },
    "papermill": {
     "duration": 0.227929,
     "end_time": "2024-11-26T19:33:11.274323",
     "exception": false,
     "start_time": "2024-11-26T19:33:11.046394",
     "status": "completed"
    },
    "tags": []
   },
   "outputs": [
    {
     "name": "stdout",
     "output_type": "stream",
     "text": [
      "There are 123 duplicated rows in the train data frame.\n",
      "total columns:  16\n",
      "number of columns with missing values:  9\n",
      "['Profession', 'Academic_Pressure', 'Work_Pressure', 'CGPA', 'Study_Satisfaction', 'Job_Satisfaction', 'Dietary_Habits', 'Degree', 'Financial_Stress']\n",
      "--- Percentage of Missing Values ---\n",
      "Profession            26.034115\n",
      "Academic_Pressure     80.172708\n",
      "Work_Pressure         19.842217\n",
      "CGPA                  80.171997\n",
      "Study_Satisfaction    80.172708\n",
      "Job_Satisfaction      19.836532\n",
      "Dietary_Habits         0.002843\n",
      "Degree                 0.001421\n",
      "Financial_Stress       0.002843\n",
      "dtype: float64\n"
     ]
    }
   ],
   "source": [
    "# fast insights\n",
    "print(f\"There are {sum(X.duplicated())} duplicated rows in the train data frame.\")\n",
    "\n",
    "print('total columns: ', len(X.columns.values))\n",
    "\n",
    "features_with_missing_values = [col for col in X.columns if X[col].isnull().any()]\n",
    "\n",
    "print('number of columns with missing values: ', len(features_with_missing_values))\n",
    "print(features_with_missing_values)\n",
    "print('--- Percentage of Missing Values ---')\n",
    "print(100*X[features_with_missing_values].isnull().sum() / X.shape[0])"
   ]
  },
  {
   "cell_type": "markdown",
   "id": "f255593a",
   "metadata": {
    "papermill": {
     "duration": 0.006858,
     "end_time": "2024-11-26T19:33:11.288458",
     "exception": false,
     "start_time": "2024-11-26T19:33:11.281600",
     "status": "completed"
    },
    "tags": []
   },
   "source": [
    "#### Initial observations\n",
    "* each line identifies a different person, so there is no column that correlates individual records to form a time serie.\n",
    "* name and city columns **will** confuse the model, it's higly unlikely that there is any real correlation between these columns and being depressed.\n",
    "* \"Working_Professional_or_Student\" is a boolean, and it's correlated to \"Profession\" (Student = NaN)\n",
    "* \"Work_Study_Hours\" is the only column based on what they do where students and professionals have a shared value.\n",
    "* \"Work_Pressure\" and \"Academic_Pressure\" could be reduced in a more generic feature \"Pressure\", or just 0filled on missing values.\n",
    "* \"Work_Satisfaction\" and \"Academic_Satisfaction\" could be reduced in a more generic feature \"Satisfaction\", or just 0filled on missing values."
   ]
  },
  {
   "cell_type": "code",
   "execution_count": 4,
   "id": "7a6dc99d",
   "metadata": {
    "execution": {
     "iopub.execute_input": "2024-11-26T19:33:11.305690Z",
     "iopub.status.busy": "2024-11-26T19:33:11.305299Z",
     "iopub.status.idle": "2024-11-26T19:33:11.567345Z",
     "shell.execute_reply": "2024-11-26T19:33:11.565875Z"
    },
    "papermill": {
     "duration": 0.274027,
     "end_time": "2024-11-26T19:33:11.569862",
     "exception": false,
     "start_time": "2024-11-26T19:33:11.295835",
     "status": "completed"
    },
    "tags": []
   },
   "outputs": [
    {
     "name": "stdout",
     "output_type": "stream",
     "text": [
      "number of missing values on the combined \"pressure\" column:  21\n"
     ]
    },
    {
     "name": "stderr",
     "output_type": "stream",
     "text": [
      "/opt/conda/lib/python3.10/site-packages/seaborn/_oldcore.py:1765: FutureWarning: unique with argument that is not not a Series, Index, ExtensionArray, or np.ndarray is deprecated and will raise in a future version.\n"
     ]
    },
    {
     "data": {
      "text/plain": [
       "Text(0, 0.5, 'Missing values')"
      ]
     },
     "execution_count": 4,
     "metadata": {},
     "output_type": "execute_result"
    },
    {
     "data": {
      "image/png": "[encoded data removed]",
      "text/plain": [
       "<Figure size 640x480 with 1 Axes>"
      ]
     },
     "metadata": {},
     "output_type": "display_data"
    }
   ],
   "source": [
    "academic_pressure_missing_values = X.loc[X.Academic_Pressure.isnull()]\n",
    "work_pressure_missing_values = X.loc[X.Work_Pressure.isnull()]\n",
    "pressure_missing_values = X.loc[X.Academic_Pressure.isnull() & X.Work_Pressure.isnull()]\n",
    "\n",
    "print('number of missing values on the combined \"pressure\" column: ', len(pressure_missing_values))\n",
    "\n",
    "sns.barplot(\n",
    "    x=[\"academic_pressure\", \"work_pressure\", \"combined_pressure\"], \n",
    "    y=[len(academic_pressure_missing_values), len(work_pressure_missing_values), len(pressure_missing_values)]\n",
    ")\n",
    "plt.ylabel(\"Missing values\")"
   ]
  },
  {
   "cell_type": "code",
   "execution_count": 5,
   "id": "02cce483",
   "metadata": {
    "execution": {
     "iopub.execute_input": "2024-11-26T19:33:11.587035Z",
     "iopub.status.busy": "2024-11-26T19:33:11.586605Z",
     "iopub.status.idle": "2024-11-26T19:33:11.826602Z",
     "shell.execute_reply": "2024-11-26T19:33:11.825405Z"
    },
    "papermill": {
     "duration": 0.251366,
     "end_time": "2024-11-26T19:33:11.828968",
     "exception": false,
     "start_time": "2024-11-26T19:33:11.577602",
     "status": "completed"
    },
    "tags": []
   },
   "outputs": [
    {
     "name": "stdout",
     "output_type": "stream",
     "text": [
      "number of missing values on the combined \"satisfaction\" column:  15\n"
     ]
    },
    {
     "name": "stderr",
     "output_type": "stream",
     "text": [
      "/opt/conda/lib/python3.10/site-packages/seaborn/_oldcore.py:1765: FutureWarning: unique with argument that is not not a Series, Index, ExtensionArray, or np.ndarray is deprecated and will raise in a future version.\n"
     ]
    },
    {
     "data": {
      "text/plain": [
       "Text(0, 0.5, 'Missing values')"
      ]
     },
     "execution_count": 5,
     "metadata": {},
     "output_type": "execute_result"
    },
    {
     "data": {
      "image/png": "[encoded data removed]",
      "text/plain": [
       "<Figure size 640x480 with 1 Axes>"
      ]
     },
     "metadata": {},
     "output_type": "display_data"
    }
   ],
   "source": [
    "study_satisfaction_missing_values = X.loc[X.Study_Satisfaction.isnull()]\n",
    "job_satisfaction_missing_values = X.loc[X.Job_Satisfaction.isnull()]\n",
    "satisfaction_missing_values = X.loc[X.Study_Satisfaction.isnull() & X.Job_Satisfaction.isnull()]\n",
    "print('number of missing values on the combined \"satisfaction\" column: ', len(satisfaction_missing_values))\n",
    "\n",
    "sns.barplot(\n",
    "    x=[\"study_satisfaction\", \"job_satisfaction\", \"combined_satisfaction\"], \n",
    "    y=[len(study_satisfaction_missing_values), len(job_satisfaction_missing_values), len(satisfaction_missing_values)]\n",
    ")\n",
    "plt.ylabel(\"Missing values\")"
   ]
  },
  {
   "cell_type": "markdown",
   "id": "5a4c53e5",
   "metadata": {
    "papermill": {
     "duration": 0.009022,
     "end_time": "2024-11-26T19:33:11.846925",
     "exception": false,
     "start_time": "2024-11-26T19:33:11.837903",
     "status": "completed"
    },
    "tags": []
   },
   "source": [
    "By joining \"satisfaction\" and \"pressure\" columns, we could greatlty reduce the number of missing values.<br>\n",
    "Being a 1 to 5 scale, remaining missing data could be filled with a \"neutral\" score of 3."
   ]
  },
  {
   "cell_type": "code",
   "execution_count": 6,
   "id": "0a3c3f1c",
   "metadata": {
    "execution": {
     "iopub.execute_input": "2024-11-26T19:33:11.866538Z",
     "iopub.status.busy": "2024-11-26T19:33:11.866127Z",
     "iopub.status.idle": "2024-11-26T19:33:12.223007Z",
     "shell.execute_reply": "2024-11-26T19:33:12.221775Z"
    },
    "papermill": {
     "duration": 0.371391,
     "end_time": "2024-11-26T19:33:12.227350",
     "exception": false,
     "start_time": "2024-11-26T19:33:11.855959",
     "status": "completed"
    },
    "tags": []
   },
   "outputs": [
    {
     "name": "stdout",
     "output_type": "stream",
     "text": [
      "number of missing professions:  36630\n",
      "number of missing profession when the person is not a student:  8763\n",
      "number of students with a profession:  34\n"
     ]
    },
    {
     "data": {
      "text/plain": [
       "([<matplotlib.patches.Wedge at 0x78563c7c3370>,\n",
       "  <matplotlib.patches.Wedge at 0x78563c7c06d0>],\n",
       " [Text(-0.8036844461683476, 0.7510601247483962, 'students without profession'),\n",
       "  Text(0.8036845516473256, -0.7510600118788361, 'professionals without profession')],\n",
       " [Text(-0.43837333427364406, 0.4096691589536707, '76%'),\n",
       "  Text(0.4383733918076321, -0.40966909738845597, '24%')])"
      ]
     },
     "execution_count": 6,
     "metadata": {},
     "output_type": "execute_result"
    },
    {
     "data": {
      "image/png": "[encoded data removed]",
      "text/plain": [
       "<Figure size 640x480 with 1 Axes>"
      ]
     },
     "metadata": {},
     "output_type": "display_data"
    }
   ],
   "source": [
    "profession_missing_values = len(X.loc[X.Profession.isnull()])\n",
    "profession_missing_values_students = len(X.loc[X.Profession.isnull() & (X.Working_Professional_or_Student == 'Student')])\n",
    "profession_missing_values_not_students = len(X.loc[X.Profession.isnull() & (X.Working_Professional_or_Student == 'Working Professional')])\n",
    "profession_provided_on_students = len(X.loc[X.Profession.notnull() & (X.Working_Professional_or_Student == 'Student')])\n",
    "\n",
    "print('number of missing professions: ', profession_missing_values)\n",
    "print('number of missing profession when the person is not a student: ', profession_missing_values_not_students)\n",
    "print('number of students with a profession: ', profession_provided_on_students)\n",
    "\n",
    "plt.pie(\n",
    "[\n",
    "    profession_missing_values_students*100/profession_missing_values, \n",
    "    profession_missing_values_not_students*100/profession_missing_values\n",
    "], \n",
    "labels = [\"students without profession\", \"professionals without profession\"], \n",
    "autopct='%.0f%%'\n",
    ")"
   ]
  },
  {
   "cell_type": "markdown",
   "id": "f848a3d8",
   "metadata": {
    "papermill": {
     "duration": 0.016191,
     "end_time": "2024-11-26T19:33:12.261876",
     "exception": false,
     "start_time": "2024-11-26T19:33:12.245685",
     "status": "completed"
    },
    "tags": []
   },
   "source": [
    "76% of missing profession values come from students that do not work."
   ]
  },
  {
   "cell_type": "code",
   "execution_count": 7,
   "id": "69856d1b",
   "metadata": {
    "execution": {
     "iopub.execute_input": "2024-11-26T19:33:12.291123Z",
     "iopub.status.busy": "2024-11-26T19:33:12.290670Z",
     "iopub.status.idle": "2024-11-26T19:33:12.502890Z",
     "shell.execute_reply": "2024-11-26T19:33:12.501159Z"
    },
    "papermill": {
     "duration": 0.229645,
     "end_time": "2024-11-26T19:33:12.507394",
     "exception": false,
     "start_time": "2024-11-26T19:33:12.277749",
     "status": "completed"
    },
    "tags": []
   },
   "outputs": [
    {
     "name": "stdout",
     "output_type": "stream",
     "text": [
      "number of missing cgpa:  112802\n",
      "number of students with missing cgpa:  9\n",
      "number of professionals with missing cgpa:  112793\n",
      "number of professionals with cgpa:  6\n"
     ]
    },
    {
     "data": {
      "text/plain": [
       "([<matplotlib.patches.Wedge at 0x78563c826170>,\n",
       "  <matplotlib.patches.Wedge at 0x78563c826080>],\n",
       " [Text(1.0999999654447683, 0.00027571998252839334, 'students without CGPA'),\n",
       "  Text(-1.0999999654662498, -0.00027563426696066383, 'professionals without CGPA')],\n",
       " [Text(0.5999999811516917, 0.00015039271774276, '0%'),\n",
       "  Text(-0.5999999811634089, -0.0001503459637967257, '100%')])"
      ]
     },
     "execution_count": 7,
     "metadata": {},
     "output_type": "execute_result"
    },
    {
     "data": {
      "image/png": "[encoded data removed]",
      "text/plain": [
       "<Figure size 640x480 with 1 Axes>"
      ]
     },
     "metadata": {},
     "output_type": "display_data"
    }
   ],
   "source": [
    "cgpa_missing_values = len(X.loc[X.CGPA.isnull()])\n",
    "cgpa_students_missing_values = len(X.loc[X.CGPA.isnull() & (X.Working_Professional_or_Student == 'Student')])\n",
    "cgpa_professional_missing_values = len(X.loc[X.CGPA.isnull() & (X.Working_Professional_or_Student == 'Working Professional')])\n",
    "cgpa_professional = len(X.loc[X.CGPA.notnull() & (X.Working_Professional_or_Student == 'Working Professional')])\n",
    "\n",
    "print('number of missing cgpa: ', cgpa_missing_values)\n",
    "print('number of students with missing cgpa: ', cgpa_students_missing_values)\n",
    "print('number of professionals with missing cgpa: ', cgpa_professional_missing_values)\n",
    "print('number of professionals with cgpa: ', cgpa_professional)\n",
    "\n",
    "plt.pie(\n",
    "[\n",
    "    cgpa_students_missing_values*100/cgpa_missing_values, \n",
    "    cgpa_professional_missing_values*100/cgpa_missing_values\n",
    "], \n",
    "labels = [\"students without CGPA\", \"professionals without CGPA\"], \n",
    "autopct='%.0f%%'\n",
    ")"
   ]
  },
  {
   "cell_type": "markdown",
   "id": "adb652fb",
   "metadata": {
    "papermill": {
     "duration": 0.017596,
     "end_time": "2024-11-26T19:33:12.542762",
     "exception": false,
     "start_time": "2024-11-26T19:33:12.525166",
     "status": "completed"
    },
    "tags": []
   },
   "source": [
    "almost all CGPA missing values come from professionals"
   ]
  },
  {
   "cell_type": "code",
   "execution_count": 8,
   "id": "aa79cb50",
   "metadata": {
    "execution": {
     "iopub.execute_input": "2024-11-26T19:33:12.573281Z",
     "iopub.status.busy": "2024-11-26T19:33:12.572892Z",
     "iopub.status.idle": "2024-11-26T19:33:12.644420Z",
     "shell.execute_reply": "2024-11-26T19:33:12.642894Z"
    },
    "papermill": {
     "duration": 0.087165,
     "end_time": "2024-11-26T19:33:12.647261",
     "exception": false,
     "start_time": "2024-11-26T19:33:12.560096",
     "status": "completed"
    },
    "tags": []
   },
   "outputs": [
    {
     "name": "stdout",
     "output_type": "stream",
     "text": [
      "Sleep duration: ['More than 8 hours' 'Less than 5 hours' '5-6 hours' '7-8 hours'\n",
      " 'Sleep_Duration' '1-2 hours' '6-8 hours' '4-6 hours' '6-7 hours'\n",
      " '10-11 hours' '8-9 hours' '40-45 hours' '9-11 hours' '2-3 hours'\n",
      " '3-4 hours' 'Moderate' '55-66 hours' '4-5 hours' '9-6 hours' '1-3 hours'\n",
      " 'Indore' '45' '1-6 hours' '35-36 hours' '8 hours' 'No' '10-6 hours'\n",
      " 'than 5 hours' '49 hours' 'Unhealthy' 'Work_Study_Hours' '3-6 hours'\n",
      " '45-48 hours' '9-5' 'Pune' '9-5 hours']\n",
      "Professions: ['Chef' 'Teacher' nan 'Business Analyst' 'Finanancial Analyst' 'Chemist'\n",
      " 'Electrician' 'Software Engineer' 'Data Scientist' 'Plumber'\n",
      " 'Marketing Manager' 'Accountant' 'Entrepreneur' 'HR Manager'\n",
      " 'UX/UI Designer' 'Content Writer' 'Educational Consultant'\n",
      " 'Civil Engineer' 'Manager' 'Pharmacist' 'Financial Analyst' 'Architect'\n",
      " 'Mechanical Engineer' 'Customer Support' 'Consultant' 'Judge'\n",
      " 'Researcher' 'Pilot' 'Graphic Designer' 'Travel Consultant'\n",
      " 'Digital Marketer' 'Lawyer' 'Research Analyst' 'Sales Executive' 'Doctor'\n",
      " 'Unemployed' 'Investment Banker' 'Family Consultant' 'B.Com' 'BE'\n",
      " 'Student' 'Yogesh' 'Dev' 'MBA' 'LLM' 'BCA' 'Academic' 'Profession'\n",
      " 'FamilyVirar' 'City Manager' 'BBA' 'Medical Doctor'\n",
      " 'Working Professional' 'MBBS' 'Patna' 'Unveil' 'B.Ed' 'Nagpur' 'Moderate'\n",
      " 'M.Ed' 'Analyst' 'Pranav' 'Visakhapatnam' 'PhD' 'Yuvraj']\n",
      "Diets: ['Healthy' 'Unhealthy' 'Moderate' 'Yes' 'Pratham' 'BSc' 'Gender' '3'\n",
      " 'More Healthy' 'Less than Healthy' 'Mihir' '1.0' 'Hormonal' 'Electrician'\n",
      " nan 'No Healthy' 'Less Healthy' 'M.Tech' 'Vegas' 'No' 'Male' 'Indoor'\n",
      " 'Class 12' '2']\n",
      "Degrees: ['BHM' 'LLB' 'B.Pharm' 'BBA' 'MCA' 'MD' 'BSc' 'ME' 'B.Arch' 'BCA' 'BE'\n",
      " 'MA' 'B.Ed' 'B.Com' 'MBA' 'M.Com' 'MHM' 'BA' 'Class 12' 'M.Tech' 'PhD'\n",
      " 'M.Ed' 'MSc' 'B.Tech' 'LLM' 'MBBS' 'M.Pharm' 'UX/UI Designer' 'MPA' 'BH'\n",
      " 'Nalini' 'BEd' 'B.Sc' 'Veda' 'Bhopal' 'S.Tech' 'Degree' '20' 'Class 11'\n",
      " 'H_Pharm' 'M' 'P.Com' 'BPharm' 'Business Analyst' 'M.Arch' 'LL.Com'\n",
      " 'Data Scientist' 'MPharm' 'L.Ed' 'P.Pharm' 'Kalyan' 'Unite' 'BArch'\n",
      " 'HR Manager' 'Badhya' 'S.Pharm' 'LLBA' 'Vrinda' 'M. Business Analyst'\n",
      " 'Bhavesh' '0' 'LLCom' '29' 'MTech' 'Vivaan' 'BPA' 'Plumber' '5.61' 'Brit'\n",
      " 'B.03' 'Ritik' '5.56' 'MEd' 'B' 'B BA' '7.06' 'B.B.Arch' 'ACA' 'Brithika'\n",
      " 'CGPA' '24' 'M_Tech' 'Pihu' 'BB' 'Jhanvi' 'LLTech' 'Aarav' 'Entrepreneur'\n",
      " '8.56' 'LHM' 'Lata' 'S.Arch' 'Marsh' 'HCA' '5.88' 'B.Student' 'LL B.Ed'\n",
      " 'M.S' 'Navya' 'Mahika' nan 'K.Ed' 'B.3.79' 'Mthanya'\n",
      " 'Working Professional' 'Esha' 'LLS' 'LLEd' 'E.Tech' 'Doctor' 'N.Pharm'\n",
      " 'LCA' 'B B.Com' 'RCA' 'Mihir' 'Advait']\n",
      "Gender: ['Female' 'Male']\n",
      "Thoughts: ['No' 'Yes']\n",
      "Working: ['Working Professional' 'Student']\n",
      "History: ['No' 'Yes']\n"
     ]
    }
   ],
   "source": [
    "# Categorical values\n",
    "print('Sleep duration:',X['Sleep_Duration'].unique())\n",
    "print('Professions:',X['Profession'].unique())\n",
    "print('Diets:',X['Dietary_Habits'].unique())\n",
    "print('Degrees:',X['Degree'].unique())\n",
    "print('Gender:',X['Gender'].unique())\n",
    "print('Thoughts:',X['Have_you_ever_had_suicidal_thoughts_'].unique())\n",
    "print('Working:',X['Working_Professional_or_Student'].unique())\n",
    "print('History:',X['Family_History_of_Mental_Illness'].unique())"
   ]
  },
  {
   "cell_type": "markdown",
   "id": "b3c3aed8",
   "metadata": {
    "papermill": {
     "duration": 0.009063,
     "end_time": "2024-11-26T19:33:12.665720",
     "exception": false,
     "start_time": "2024-11-26T19:33:12.656657",
     "status": "completed"
    },
    "tags": []
   },
   "source": [
    "There are quite some noisy values on categorical columns, i must say that i'd follow an `Electrician` diet too if i was working as an `Unveil`."
   ]
  },
  {
   "cell_type": "markdown",
   "id": "59fba11f",
   "metadata": {
    "papermill": {
     "duration": 0.009921,
     "end_time": "2024-11-26T19:33:12.685133",
     "exception": false,
     "start_time": "2024-11-26T19:33:12.675212",
     "status": "completed"
    },
    "tags": []
   },
   "source": [
    "## Define a pipeline\n",
    "`MentalHealthDTPipeline` pipeline from repo does the same thing as the following code:"
   ]
  },
  {
   "cell_type": "markdown",
   "id": "5baadfea",
   "metadata": {
    "papermill": {
     "duration": 0.009223,
     "end_time": "2024-11-26T19:33:12.704449",
     "exception": false,
     "start_time": "2024-11-26T19:33:12.695226",
     "status": "completed"
    },
    "tags": []
   },
   "source": [
    "#### categoricals dictionaries definition"
   ]
  },
  {
   "cell_type": "code",
   "execution_count": 9,
   "id": "5ae163bc",
   "metadata": {
    "execution": {
     "iopub.execute_input": "2024-11-26T19:33:12.725602Z",
     "iopub.status.busy": "2024-11-26T19:33:12.725223Z",
     "iopub.status.idle": "2024-11-26T19:33:12.734805Z",
     "shell.execute_reply": "2024-11-26T19:33:12.733654Z"
    },
    "papermill": {
     "duration": 0.022853,
     "end_time": "2024-11-26T19:33:12.737301",
     "exception": false,
     "start_time": "2024-11-26T19:33:12.714448",
     "status": "completed"
    },
    "tags": []
   },
   "outputs": [],
   "source": [
    "sleep_dictionary = {\n",
    "    '0': 0,\n",
    "    'No': 0,\n",
    "    '1-2 hours': 1.5,\n",
    "    '1-3 hours': 2,\n",
    "    '2-3 hours': 2.5,\n",
    "    '20-21 hours': 2.5,  # probably per week\n",
    "    'Unhealthy': 3,\n",
    "    '3-4 hours': 3.5,\n",
    "    '3-6 hours': 3.5,\n",
    "    '1-6 hours': 4,\n",
    "    'Less than 5 hours': 4,\n",
    "    '4-5 hours': 4.5,\n",
    "    '4-6 hours': 5,\n",
    "    '35-36 hours': 5,  # probably per week\n",
    "    '5-6 hours': 5.5,\n",
    "    'Moderate': 6,\n",
    "    '45': 6,  # probably per week\n",
    "    '40-45 hours': 6,  # probably per week\n",
    "    '6-7 hours': 6.5,\n",
    "    '45-48 hours': 6.5,  # probably per week\n",
    "    '6-8 hours': 7,\n",
    "    '9-5': 7,\n",
    "    '9-5 hours': 7,\n",
    "    '49 hours': 7,  # probably per week\n",
    "    '7-8 hours': 7.5,\n",
    "    '9-6 hours': 7.5,\n",
    "    '8 hours': 8,\n",
    "    '10-6 hours': 8,\n",
    "    '55-66 hours': 8.5,  # probably per week\n",
    "    '8-89 hours': 8.5,  # probably typo\n",
    "    '8-9 hours': 8.5,\n",
    "    '50-75 hours': 8.5,  # probably per week\n",
    "    'More than 8 hours': 9,\n",
    "    '60-65 hours': 9,  # probably per week\n",
    "    '9-11 hours': 10,\n",
    "    '10-11 hours': 10.5,\n",
    "}\n",
    "\n",
    "diet_dictionary = {\n",
    "    'More Healty': 0,\n",
    "    'Healthy': 1,\n",
    "    '5 Healthy': 1,\n",
    "    'Mealy': 2,\n",
    "    'Less than Healthy': 2,\n",
    "    'Less Healthy': 2,\n",
    "    'Moderate': 3,\n",
    "    '5 Unhealthy': 4,\n",
    "    'Unhealthy': 4,\n",
    "    'No Healthy': 4,\n",
    "}\n",
    "\n",
    "gender_dictionary = {\n",
    "    'Male': 0,\n",
    "    'Female': 1,\n",
    "}\n",
    "\n",
    "student_profession_dictionary = {\n",
    "    'Working Professional': 1,\n",
    "    'Student': 0,\n",
    "}\n",
    "\n",
    "yes_no_dictionary = {\n",
    "    'No': 0,\n",
    "    'Yes': 1,\n",
    "}\n",
    "\n",
    "cols_profession_to_delete = [\n",
    "    'PhD', 'MBBS', 'B.Ed', 'M.Ed', 'BBA', 'MBA', 'LLM', 'BCA', 'B.Com', 'BE', 'Simran', '3M',\n",
    "    'Name', 'No', '24th', 'Unveil', 'Unhealthy', 'Yuvraj', 'Yogesh', 'Patna', 'Nagpur',\n",
    "    'Pranav', 'Visakhapatnam', 'Moderate', 'Manvi', 'Yogesh', 'Samar', 'Surat'\n",
    "]"
   ]
  },
  {
   "cell_type": "markdown",
   "id": "ca96b585",
   "metadata": {
    "papermill": {
     "duration": 0.009746,
     "end_time": "2024-11-26T19:33:12.757144",
     "exception": false,
     "start_time": "2024-11-26T19:33:12.747398",
     "status": "completed"
    },
    "tags": []
   },
   "source": [
    "#### column null values handling"
   ]
  },
  {
   "cell_type": "code",
   "execution_count": 10,
   "id": "d41118c1",
   "metadata": {
    "execution": {
     "iopub.execute_input": "2024-11-26T19:33:12.779745Z",
     "iopub.status.busy": "2024-11-26T19:33:12.779357Z",
     "iopub.status.idle": "2024-11-26T19:33:13.209508Z",
     "shell.execute_reply": "2024-11-26T19:33:13.208194Z"
    },
    "papermill": {
     "duration": 0.443636,
     "end_time": "2024-11-26T19:33:13.212083",
     "exception": false,
     "start_time": "2024-11-26T19:33:12.768447",
     "status": "completed"
    },
    "tags": []
   },
   "outputs": [],
   "source": [
    "# delete weird professions\n",
    "X['Profession'] = X['Profession'].mask(X['Profession'].isin(cols_profession_to_delete))\n",
    "\n",
    "# create \"student\" profession (disabled, confuses the model)\n",
    "# X.loc[(X['Working_Professional_or_Student'] == 'Student') & (X['Profession'].isnull()), 'Profession'] = 'Student'\n",
    "\n",
    "# merge satisfaction and pressure columns and 0fill remainings (disabled, confuses the model)\n",
    "# X['Satisfaction'] = X['Study_Satisfaction'].fillna(X['Job_Satisfaction'])\n",
    "# X['Pressure'] = X['Academic_Pressure'].fillna(X['Work_Pressure'])\n",
    "# X['Satisfaction'] = X['Satisfaction'].fillna(0)\n",
    "# X['Pressure'] = X['Pressure'].fillna(0)\n",
    "#X.drop(['Study_Satisfaction'], axis=1, inplace=True)\n",
    "#X.drop(['Job_Satisfaction'], axis=1, inplace=True)\n",
    "#X.drop(['Academic_Pressure'], axis=1, inplace=True)\n",
    "#X.drop(['Work_Pressure'], axis=1, inplace=True)\n",
    "\n",
    "# fill metric numericals with values that make sense (eg: if working, then no study stress)\n",
    "X['Academic_Pressure'] = X['Academic_Pressure'].fillna(0)\n",
    "X['Work_Pressure'] = X['Work_Pressure'].fillna(0)\n",
    "X['Study_Satisfaction'] = X['Study_Satisfaction'].fillna(0)\n",
    "X['Job_Satisfaction'] = X['Job_Satisfaction'].fillna(0)\n",
    "X['CGPA'] = X['CGPA'].fillna(-1)  # we want to emphasize that it's a missing value\n",
    "X['Financial_Stress'] = X['Financial_Stress'].fillna(-1)  # we want to emphasize that it's a missing value\n",
    "\n",
    "# fill unknown categoricals\n",
    "X['Profession'] = X['Profession'].fillna('Unknown')\n",
    "X['Dietary_Habits'] = X['Dietary_Habits'].fillna('Unknown')\n",
    "X['Degree'] = X['Degree'].fillna('Unknown')\n",
    "\n",
    "# Assign values based on the dictionaries and set -1 for empty values\n",
    "X['Sleep_Duration'] = X['Sleep_Duration'].apply(lambda x: sleep_dictionary.get(x, -1) if x != '' else -1)\n",
    "X['Dietary_Habits'] = X['Dietary_Habits'].apply(lambda x: diet_dictionary.get(x, -1) if x != '' else -1)\n",
    "X['Gender'] = X['Gender'].apply(lambda x: gender_dictionary.get(x, -1) if x != '' else -1)\n",
    "X['Have_you_ever_had_suicidal_thoughts_'] = X['Have_you_ever_had_suicidal_thoughts_'].apply(lambda x: yes_no_dictionary.get(x, -1) if x != '' else -1)\n",
    "X['Working_Professional_or_Student'] = X['Working_Professional_or_Student'].apply(lambda x: student_profession_dictionary.get(x, -1) if x != '' else -1)\n",
    "X['Family_History_of_Mental_Illness'] = X['Family_History_of_Mental_Illness'].apply(lambda x: yes_no_dictionary.get(x, -1) if x != '' else -1)"
   ]
  },
  {
   "cell_type": "markdown",
   "id": "f78d1324",
   "metadata": {
    "papermill": {
     "duration": 0.010005,
     "end_time": "2024-11-26T19:33:13.232154",
     "exception": false,
     "start_time": "2024-11-26T19:33:13.222149",
     "status": "completed"
    },
    "tags": []
   },
   "source": [
    "#### Additional features"
   ]
  },
  {
   "cell_type": "code",
   "execution_count": 11,
   "id": "6879c005",
   "metadata": {
    "execution": {
     "iopub.execute_input": "2024-11-26T19:33:13.253374Z",
     "iopub.status.busy": "2024-11-26T19:33:13.252947Z",
     "iopub.status.idle": "2024-11-26T19:33:13.260506Z",
     "shell.execute_reply": "2024-11-26T19:33:13.259358Z"
    },
    "papermill": {
     "duration": 0.021524,
     "end_time": "2024-11-26T19:33:13.263171",
     "exception": false,
     "start_time": "2024-11-26T19:33:13.241647",
     "status": "completed"
    },
    "tags": []
   },
   "outputs": [],
   "source": [
    "def compute_hours_column(row, professional):\n",
    "    if row['Working_Professional_or_Student'] == professional:\n",
    "        return row['Work_Study_Hours']\n",
    "    else:\n",
    "        return 0\n",
    "\n",
    "def compute_work_stress_column(row):\n",
    "    if row['Working_Professional_or_Student'] == 1:\n",
    "        return row['Financial_Stress'] + row['Work_Pressure'] - row['Job_Satisfaction']\n",
    "    else:\n",
    "        return 0\n",
    "\n",
    "def compute_academic_stress_column(row):\n",
    "    if row['Working_Professional_or_Student'] == 0:\n",
    "        return row['Financial_Stress'] + row['Academic_Pressure'] - row['Study_Satisfaction']\n",
    "    else:\n",
    "        return 0\n",
    "\n",
    "# create additional stress columns (disabled, does not improve CV)\n",
    "# X['Work_Stress'] = X.apply(lambda row: compute_work_stress_column(row), axis=1)\n",
    "# X['Academic_Stress'] = X.apply(lambda row: compute_academic_stress_column(row), axis=1)\n",
    "\n",
    "# distinct study and work hours\n",
    "# X['Work_Hours'] = X.apply(lambda row: compute_hours_column(row, 1), axis=1)\n",
    "# X['Study_Hours'] = X.apply(lambda row: compute_hours_column(row, 0), axis=1)\n",
    "\n",
    "#X.drop(['Work_Study_Hours'], axis=1, inplace=True)"
   ]
  },
  {
   "cell_type": "markdown",
   "id": "4d37f7e3",
   "metadata": {
    "papermill": {
     "duration": 0.009073,
     "end_time": "2024-11-26T19:33:13.281958",
     "exception": false,
     "start_time": "2024-11-26T19:33:13.272885",
     "status": "completed"
    },
    "tags": []
   },
   "source": [
    "#### fix uneven names"
   ]
  },
  {
   "cell_type": "code",
   "execution_count": 12,
   "id": "ff91619e",
   "metadata": {
    "execution": {
     "iopub.execute_input": "2024-11-26T19:33:13.302502Z",
     "iopub.status.busy": "2024-11-26T19:33:13.302129Z",
     "iopub.status.idle": "2024-11-26T19:33:13.726180Z",
     "shell.execute_reply": "2024-11-26T19:33:13.724532Z"
    },
    "papermill": {
     "duration": 0.438144,
     "end_time": "2024-11-26T19:33:13.729494",
     "exception": false,
     "start_time": "2024-11-26T19:33:13.291350",
     "status": "completed"
    },
    "tags": []
   },
   "outputs": [],
   "source": [
    "def fix_name(degree):\n",
    "    # if it's not a string, do nothing\n",
    "    if not isinstance(degree, str):\n",
    "        return degree\n",
    "\n",
    "    # remove special characters\n",
    "    degree = re.sub('[^A-Za-z0-9_]+', '', degree)\n",
    "\n",
    "    # lowercase\n",
    "    degree = degree.lower()\n",
    "\n",
    "    return degree\n",
    "\n",
    "# standardize names to avoid duplicates and misspellings\n",
    "X['Degree'] = X['Degree'].apply(fix_name)\n",
    "X['Profession'] = X['Profession'].apply(fix_name)"
   ]
  },
  {
   "cell_type": "code",
   "execution_count": 13,
   "id": "549b538a",
   "metadata": {
    "execution": {
     "iopub.execute_input": "2024-11-26T19:33:13.752676Z",
     "iopub.status.busy": "2024-11-26T19:33:13.752276Z",
     "iopub.status.idle": "2024-11-26T19:33:13.779516Z",
     "shell.execute_reply": "2024-11-26T19:33:13.778267Z"
    },
    "papermill": {
     "duration": 0.040556,
     "end_time": "2024-11-26T19:33:13.781949",
     "exception": false,
     "start_time": "2024-11-26T19:33:13.741393",
     "status": "completed"
    },
    "tags": []
   },
   "outputs": [
    {
     "name": "stdout",
     "output_type": "stream",
     "text": [
      "number of columns with missing values:  0\n",
      "[]\n",
      "--- Percentage of Missing Values ---\n",
      "Series([], dtype: float64)\n"
     ]
    }
   ],
   "source": [
    "features_with_missing_values = [col for col in X.columns if X[col].isnull().any()]\n",
    "\n",
    "print('number of columns with missing values: ', len(features_with_missing_values))\n",
    "print(features_with_missing_values)\n",
    "print('--- Percentage of Missing Values ---')\n",
    "print(100*X[features_with_missing_values].isnull().sum() / X.shape[0])"
   ]
  },
  {
   "cell_type": "code",
   "execution_count": 14,
   "id": "bb0ab39a",
   "metadata": {
    "execution": {
     "iopub.execute_input": "2024-11-26T19:33:13.803865Z",
     "iopub.status.busy": "2024-11-26T19:33:13.803428Z",
     "iopub.status.idle": "2024-11-26T19:33:14.303206Z",
     "shell.execute_reply": "2024-11-26T19:33:14.302060Z"
    },
    "papermill": {
     "duration": 0.514542,
     "end_time": "2024-11-26T19:33:14.306436",
     "exception": false,
     "start_time": "2024-11-26T19:33:13.791894",
     "status": "completed"
    },
    "tags": []
   },
   "outputs": [],
   "source": [
    "# reload data to use pipeline\n",
    "X, y = load_data()\n",
    "pipeline = MentalHealthDTPipeline(X, True)"
   ]
  },
  {
   "cell_type": "markdown",
   "id": "78d6e42a",
   "metadata": {
    "papermill": {
     "duration": 0.009668,
     "end_time": "2024-11-26T19:33:14.326749",
     "exception": false,
     "start_time": "2024-11-26T19:33:14.317081",
     "status": "completed"
    },
    "tags": []
   },
   "source": [
    "### Train model "
   ]
  },
  {
   "cell_type": "code",
   "execution_count": 15,
   "id": "7e3e12d1",
   "metadata": {
    "execution": {
     "iopub.execute_input": "2024-11-26T19:33:14.348296Z",
     "iopub.status.busy": "2024-11-26T19:33:14.347891Z",
     "iopub.status.idle": "2024-11-26T19:34:06.288165Z",
     "shell.execute_reply": "2024-11-26T19:34:06.286859Z"
    },
    "papermill": {
     "duration": 51.954316,
     "end_time": "2024-11-26T19:34:06.290901",
     "exception": false,
     "start_time": "2024-11-26T19:33:14.336585",
     "status": "completed"
    },
    "tags": []
   },
   "outputs": [
    {
     "name": "stdout",
     "output_type": "stream",
     "text": [
      "Cross-Validation AUC: 0.9752294039348401\n",
      "Optimal Boosting Rounds:  354\n",
      "Generating AUC with optimal boosting rounds\n",
      "Cross-Validation AUC: 0.9752253627163725\n",
      "Optimal Boosting Rounds:  354\n"
     ]
    }
   ],
   "source": [
    "model_type = XGBClassifierWrapper()\n",
    "trainer = CachedAccurateCrossTrainer(pipeline, model_type, X, y, metric=AccuracyMetric.AUC)\n",
    "# optimizer = CustomGridOptimizer(trainer, model_type, direction=OptimizationDirection.MAXIMIZE)\n",
    "optimized_params = {\n",
    "    'objective': 'binary:logistic', \n",
    "    'eval_metric': 'auc', \n",
    "    'learning_rate': 0.03, \n",
    "    'max_depth': 5, \n",
    "    'min_child_weight': 5, \n",
    "    'gamma': 0.3, \n",
    "    'subsample': 0.6, \n",
    "    'colsample_bytree': 0.7, \n",
    "    'scale_pos_weight': 1, \n",
    "    'n_jobs': -1, \n",
    "    'reg_alpha': 0\n",
    "}\n",
    "\n",
    "\n",
    "_, iterations = trainer.validate_model(X, y, log_level=1, params=optimized_params)"
   ]
  },
  {
   "cell_type": "code",
   "execution_count": 16,
   "id": "863146af",
   "metadata": {
    "execution": {
     "iopub.execute_input": "2024-11-26T19:34:06.311876Z",
     "iopub.status.busy": "2024-11-26T19:34:06.311449Z",
     "iopub.status.idle": "2024-11-26T19:34:07.915611Z",
     "shell.execute_reply": "2024-11-26T19:34:07.914423Z"
    },
    "papermill": {
     "duration": 1.617339,
     "end_time": "2024-11-26T19:34:07.917913",
     "exception": false,
     "start_time": "2024-11-26T19:34:06.300574",
     "status": "completed"
    },
    "tags": []
   },
   "outputs": [
    {
     "name": "stdout",
     "output_type": "stream",
     "text": [
      "                                        feats  importance\n",
      "0                                    num__Age    0.272376\n",
      "1   cat__Have_you_ever_had_suicidal_thoughts_    0.240610\n",
      "2                      num__Academic_Pressure    0.133769\n",
      "3        cat__Working_Professional_or_Student    0.108122\n",
      "4                       num__Financial_Stress    0.050012\n",
      "5                       num__Job_Satisfaction    0.038715\n",
      "6                          num__Work_Pressure    0.038124\n",
      "7                             cat__Profession    0.031847\n",
      "8                         cat__Dietary_Habits    0.022023\n",
      "9                       num__Work_Study_Hours    0.019515\n",
      "10                        cat__Sleep_Duration    0.012279\n",
      "11                    num__Study_Satisfaction    0.011931\n",
      "12                                  num__CGPA    0.006259\n",
      "13      cat__Family_History_of_Mental_Illness    0.005325\n",
      "14                                cat__Degree    0.005106\n",
      "15                                cat__Gender    0.003986\n"
     ]
    },
    {
     "data": {
      "image/png": "[encoded data removed]",
      "text/plain": [
       "<Figure size 1200x800 with 1 Axes>"
      ]
     },
     "metadata": {},
     "output_type": "display_data"
    }
   ],
   "source": [
    "trainer.show_feature_importance(X)"
   ]
  },
  {
   "cell_type": "code",
   "execution_count": 17,
   "id": "3107aa8e",
   "metadata": {
    "execution": {
     "iopub.execute_input": "2024-11-26T19:34:07.941779Z",
     "iopub.status.busy": "2024-11-26T19:34:07.941403Z",
     "iopub.status.idle": "2024-11-26T19:34:08.227716Z",
     "shell.execute_reply": "2024-11-26T19:34:08.226497Z"
    },
    "papermill": {
     "duration": 0.300807,
     "end_time": "2024-11-26T19:34:08.230309",
     "exception": false,
     "start_time": "2024-11-26T19:34:07.929502",
     "status": "completed"
    },
    "tags": []
   },
   "outputs": [
    {
     "data": {
      "image/png": "[encoded data removed]",
      "text/plain": [
       "<Figure size 1200x600 with 1 Axes>"
      ]
     },
     "metadata": {},
     "output_type": "display_data"
    }
   ],
   "source": [
    "trainer.show_loss()"
   ]
  },
  {
   "cell_type": "markdown",
   "id": "2cac96bd",
   "metadata": {
    "papermill": {
     "duration": 0.011448,
     "end_time": "2024-11-26T19:34:08.254087",
     "exception": false,
     "start_time": "2024-11-26T19:34:08.242639",
     "status": "completed"
    },
    "tags": []
   },
   "source": [
    "## Train complete model on all data"
   ]
  },
  {
   "cell_type": "code",
   "execution_count": 18,
   "id": "ceb8a265",
   "metadata": {
    "execution": {
     "iopub.execute_input": "2024-11-26T19:34:08.279028Z",
     "iopub.status.busy": "2024-11-26T19:34:08.278587Z",
     "iopub.status.idle": "2024-11-26T19:34:13.002119Z",
     "shell.execute_reply": "2024-11-26T19:34:13.001205Z"
    },
    "papermill": {
     "duration": 4.738784,
     "end_time": "2024-11-26T19:34:13.004416",
     "exception": false,
     "start_time": "2024-11-26T19:34:08.265632",
     "status": "completed"
    },
    "tags": []
   },
   "outputs": [],
   "source": [
    "complete_model = trainer.train_model(X, y, iterations=iterations, params=optimized_params)"
   ]
  },
  {
   "cell_type": "markdown",
   "id": "5aa99e57",
   "metadata": {
    "papermill": {
     "duration": 0.011161,
     "end_time": "2024-11-26T19:34:13.027045",
     "exception": false,
     "start_time": "2024-11-26T19:34:13.015884",
     "status": "completed"
    },
    "tags": []
   },
   "source": [
    "## Make predictions on the competition data, and generate submission"
   ]
  },
  {
   "cell_type": "code",
   "execution_count": 19,
   "id": "04e3715e",
   "metadata": {
    "execution": {
     "iopub.execute_input": "2024-11-26T19:34:13.054016Z",
     "iopub.status.busy": "2024-11-26T19:34:13.053612Z",
     "iopub.status.idle": "2024-11-26T19:34:14.654338Z",
     "shell.execute_reply": "2024-11-26T19:34:14.653134Z"
    },
    "papermill": {
     "duration": 1.617197,
     "end_time": "2024-11-26T19:34:14.656729",
     "exception": false,
     "start_time": "2024-11-26T19:34:13.039532",
     "status": "completed"
    },
    "tags": []
   },
   "outputs": [],
   "source": [
    "# Load the data\n",
    "test_data_path = '/kaggle/input/playground-series-s4e11/test.csv'\n",
    "test_data = pd.read_csv(test_data_path, index_col='id')\n",
    "\n",
    "# drop useless columns\n",
    "test_data.drop(['Name'], axis=1, inplace=True)\n",
    "test_data.drop(['City'], axis=1, inplace=True)\n",
    "\n",
    "# standardize column names\n",
    "test_data = test_data.rename(columns = lambda x:re.sub('[^A-Za-z0-9_]+', '_', x))\n",
    "\n",
    "processed_test_data = pipeline.transform(test_data)\n",
    "\n",
    "# make predictions which we will submit. \n",
    "test_preds = complete_model.predict(processed_test_data)\n",
    "\n",
    "# Save predictions in the format used for competition scoring\n",
    "output = pd.DataFrame({'id': test_data.index,\n",
    "                       'Depression': test_preds})\n",
    "output.to_csv('submission.csv', index=False)"
   ]
  }
 ],
 "metadata": {
  "kaggle": {
   "accelerator": "none",
   "dataSources": [
    {
     "databundleVersionId": 10008389,
     "sourceId": 84895,
     "sourceType": "competition"
    }
   ],
   "dockerImageVersionId": 30786,
   "isGpuEnabled": false,
   "isInternetEnabled": true,
   "language": "python",
   "sourceType": "notebook"
  },
  "kernelspec": {
   "display_name": "Python 3",
   "language": "python",
   "name": "python3"
  },
  "language_info": {
   "codemirror_mode": {
    "name": "ipython",
    "version": 3
   },
   "file_extension": ".py",
   "mimetype": "text/x-python",
   "name": "python",
   "nbconvert_exporter": "python",
   "pygments_lexer": "ipython3",
   "version": "3.10.14"
  },
  "papermill": {
   "default_parameters": {},
   "duration": 159.396536,
   "end_time": "2024-11-26T19:34:15.691859",
   "environment_variables": {},
   "exception": null,
   "input_path": "__notebook__.ipynb",
   "output_path": "__notebook__.ipynb",
   "parameters": {},
   "start_time": "2024-11-26T19:31:36.295323",
   "version": "2.6.0"
  }
 },
 "nbformat": 4,
 "nbformat_minor": 5
}
