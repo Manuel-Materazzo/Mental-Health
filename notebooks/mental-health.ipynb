{
 "cells": [
  {
   "cell_type": "markdown",
   "id": "305d24cb",
   "metadata": {
    "papermill": {
     "duration": 0.00764,
     "end_time": "2024-12-19T23:08:16.758211",
     "exception": false,
     "start_time": "2024-12-19T23:08:16.750571",
     "status": "completed"
    },
    "tags": []
   },
   "source": [
    "## <p style=\"padding:15px; background-color:#b48dda; font-family:arial; font-weight:bold; color:white; font-size:100%; letter-spacing: 2px; text-align:left; border-radius: 10px 10px; margin-bottom: -30px;\">Setup</p>"
   ]
  },
  {
   "cell_type": "code",
   "execution_count": 1,
   "id": "814518f7",
   "metadata": {
    "_cell_guid": "b1076dfc-b9ad-4769-8c92-a6c4dae69d19",
    "_uuid": "8f2839f25d086af736a60e9eeb907d3b93b6e0e5",
    "execution": {
     "iopub.execute_input": "2024-12-19T23:08:16.773764Z",
     "iopub.status.busy": "2024-12-19T23:08:16.773259Z",
     "iopub.status.idle": "2024-12-19T23:09:47.728800Z",
     "shell.execute_reply": "2024-12-19T23:09:47.727658Z"
    },
    "papermill": {
     "duration": 90.966062,
     "end_time": "2024-12-19T23:09:47.731180",
     "exception": false,
     "start_time": "2024-12-19T23:08:16.765118",
     "status": "completed"
    },
    "tags": []
   },
   "outputs": [
    {
     "name": "stdout",
     "output_type": "stream",
     "text": [
      "Initialized empty Git repository in /kaggle/working/.git/\r\n",
      "Pulling...\n",
      "Installing dependencies...\n",
      "\u001B[31mERROR: pip's dependency resolver does not currently take into account all the packages that are installed. This behaviour is the source of the following dependency conflicts.\r\n",
      "aiobotocore 2.15.1 requires botocore<1.35.24,>=1.35.16, but you have botocore 1.35.85 which is incompatible.\r\n",
      "albucore 0.0.17 requires numpy>=1.24, but you have numpy 1.23.5 which is incompatible.\r\n",
      "albumentations 1.4.17 requires numpy>=1.24.4, but you have numpy 1.23.5 which is incompatible.\r\n",
      "apache-beam 2.46.0 requires cloudpickle~=2.2.1, but you have cloudpickle 3.0.0 which is incompatible.\r\n",
      "apache-beam 2.46.0 requires dill<0.3.2,>=0.3.1.1, but you have dill 0.3.8 which is incompatible.\r\n",
      "apache-beam 2.46.0 requires pyarrow<10.0.0,>=3.0.0, but you have pyarrow 17.0.0 which is incompatible.\r\n",
      "bayesian-optimization 1.5.1 requires numpy>=1.25, but you have numpy 1.23.5 which is incompatible.\r\n",
      "beatrix-jupyterlab 2024.66.154055 requires jupyterlab~=3.6.0, but you have jupyterlab 4.2.5 which is incompatible.\r\n",
      "bigframes 0.22.0 requires google-cloud-bigquery[bqstorage,pandas]>=3.10.0, but you have google-cloud-bigquery 2.34.4 which is incompatible.\r\n",
      "bigframes 0.22.0 requires google-cloud-storage>=2.0.0, but you have google-cloud-storage 1.44.0 which is incompatible.\r\n",
      "bigframes 0.22.0 requires pandas<2.1.4,>=1.5.0, but you have pandas 2.2.3 which is incompatible.\r\n",
      "blis 1.0.1 requires numpy<3.0.0,>=2.0.0, but you have numpy 1.23.5 which is incompatible.\r\n",
      "cesium 0.12.3 requires numpy<3.0,>=2.0, but you have numpy 1.23.5 which is incompatible.\r\n",
      "chex 0.1.87 requires numpy>=1.24.1, but you have numpy 1.23.5 which is incompatible.\r\n",
      "conda 24.9.0 requires packaging>=23.0, but you have packaging 21.3 which is incompatible.\r\n",
      "dataproc-jupyter-plugin 0.1.79 requires pydantic~=1.10.0, but you have pydantic 2.9.2 which is incompatible.\r\n",
      "featuretools 1.31.0 requires numpy>=1.25.0, but you have numpy 1.23.5 which is incompatible.\r\n",
      "gensim 4.3.3 requires scipy<1.14.0,>=1.7.0, but you have scipy 1.14.1 which is incompatible.\r\n",
      "ibis-framework 7.1.0 requires pyarrow<15,>=2, but you have pyarrow 17.0.0 which is incompatible.\r\n",
      "jax 0.4.33 requires numpy>=1.24, but you have numpy 1.23.5 which is incompatible.\r\n",
      "jaxlib 0.4.33 requires numpy>=1.24, but you have numpy 1.23.5 which is incompatible.\r\n",
      "jupyterlab 4.2.5 requires jupyter-lsp>=2.0.0, but you have jupyter-lsp 1.5.1 which is incompatible.\r\n",
      "jupyterlab-lsp 5.1.0 requires jupyter-lsp>=2.0.0, but you have jupyter-lsp 1.5.1 which is incompatible.\r\n",
      "libpysal 4.9.2 requires packaging>=22, but you have packaging 21.3 which is incompatible.\r\n",
      "libpysal 4.9.2 requires shapely>=2.0.1, but you have shapely 1.8.5.post1 which is incompatible.\r\n",
      "preprocessing 0.1.13 requires nltk==3.2.4, but you have nltk 3.9.1 which is incompatible.\r\n",
      "pyldavis 3.4.1 requires numpy>=1.24.2, but you have numpy 1.23.5 which is incompatible.\r\n",
      "thinc 8.3.2 requires numpy<2.1.0,>=2.0.0; python_version >= \"3.9\", but you have numpy 1.23.5 which is incompatible.\r\n",
      "virtualenv 20.21.0 requires platformdirs<4,>=2.4, but you have platformdirs 4.3.6 which is incompatible.\r\n",
      "woodwork 0.31.0 requires numpy>=1.25.0, but you have numpy 1.23.5 which is incompatible.\r\n",
      "xarray 2024.9.0 requires numpy>=1.24, but you have numpy 1.23.5 which is incompatible.\r\n",
      "xarray 2024.9.0 requires packaging>=23.1, but you have packaging 21.3 which is incompatible.\r\n",
      "ydata-profiling 4.10.0 requires scipy<1.14,>=1.4.1, but you have scipy 1.14.1 which is incompatible.\u001B[0m\u001B[31m\r\n",
      "\u001B[0mThe scikit-learn version is 1.5.2.\n",
      "Loading data...\n",
      "Done ✅\n"
     ]
    }
   ],
   "source": [
    "import os\n",
    "\n",
    "if not os.path.isdir('src'):\n",
    "    !git init .\n",
    "    !git remote add origin https://github.com/Manuel-Materazzo/Mental-Health.git\n",
    "\n",
    "print('Pulling...')\n",
    "!git pull origin master -q\n",
    "\n",
    "print('Installing dependencies...')\n",
    "!pip install -r /kaggle/working/src/requirements.txt -q\n",
    "\n",
    "import sklearn\n",
    "print('The scikit-learn version is {}.'.format(sklearn.__version__))\n",
    "\n",
    "import re\n",
    "import pandas as pd\n",
    "import seaborn as sns\n",
    "import matplotlib.pyplot as plt\n",
    "from pandas import DataFrame\n",
    "\n",
    "from src.enums.accuracy_metric import AccuracyMetric\n",
    "\n",
    "from src.models.xgb_classifier import XGBClassifierWrapper\n",
    "\n",
    "from src.trainers.cached_accurate_cross_trainer import CachedAccurateCrossTrainer\n",
    "\n",
    "pd.set_option('display.max_columns', None)\n",
    "\n",
    "def load_data():\n",
    "    # Load the data\n",
    "    file_path = '/kaggle/input/playground-series-s4e11/train.csv'\n",
    "    data = pd.read_csv(file_path, index_col='id')\n",
    "\n",
    "    # Remove rows with missing target, separate target from predictors\n",
    "    data.dropna(axis=0, subset=['Depression'], inplace=True)\n",
    "    y = data['Depression']\n",
    "    X = data.drop(['Depression'], axis=1)\n",
    "\n",
    "    # standardize column names\n",
    "    data = data.rename(columns=lambda x: re.sub('[^A-Za-z0-9_]+', '_', x))\n",
    "    X = X.rename(columns=lambda x: re.sub('[^A-Za-z0-9_]+', '_', x))\n",
    "    return X, y, data\n",
    "\n",
    "print('Loading data...')\n",
    "X, y, raw_data = load_data()\n",
    "print('Done ✅')"
   ]
  },
  {
   "cell_type": "markdown",
   "id": "87192252",
   "metadata": {
    "papermill": {
     "duration": 0.006726,
     "end_time": "2024-12-19T23:09:47.744942",
     "exception": false,
     "start_time": "2024-12-19T23:09:47.738216",
     "status": "completed"
    },
    "tags": []
   },
   "source": [
    "## <p style=\"padding:15px; background-color:#b48dda; font-family:arial; font-weight:bold; color:white; font-size:100%; letter-spacing: 2px; text-align:left; border-radius: 10px 10px; margin-bottom: -30px; margin-top: 50px;\">Data Exploration</p>"
   ]
  },
  {
   "cell_type": "code",
   "execution_count": 2,
   "id": "58b2463c",
   "metadata": {
    "execution": {
     "iopub.execute_input": "2024-12-19T23:09:47.762396Z",
     "iopub.status.busy": "2024-12-19T23:09:47.761940Z",
     "iopub.status.idle": "2024-12-19T23:09:47.787594Z",
     "shell.execute_reply": "2024-12-19T23:09:47.786518Z"
    },
    "papermill": {
     "duration": 0.037639,
     "end_time": "2024-12-19T23:09:47.789956",
     "exception": false,
     "start_time": "2024-12-19T23:09:47.752317",
     "status": "completed"
    },
    "tags": []
   },
   "outputs": [
    {
     "data": {
      "text/html": [
       "<div>\n",
       "<style scoped>\n",
       "    .dataframe tbody tr th:only-of-type {\n",
       "        vertical-align: middle;\n",
       "    }\n",
       "\n",
       "    .dataframe tbody tr th {\n",
       "        vertical-align: top;\n",
       "    }\n",
       "\n",
       "    .dataframe thead th {\n",
       "        text-align: right;\n",
       "    }\n",
       "</style>\n",
       "<table border=\"1\" class=\"dataframe\">\n",
       "  <thead>\n",
       "    <tr style=\"text-align: right;\">\n",
       "      <th></th>\n",
       "      <th>Name</th>\n",
       "      <th>Gender</th>\n",
       "      <th>Age</th>\n",
       "      <th>City</th>\n",
       "      <th>Working_Professional_or_Student</th>\n",
       "      <th>Profession</th>\n",
       "      <th>Academic_Pressure</th>\n",
       "      <th>Work_Pressure</th>\n",
       "      <th>CGPA</th>\n",
       "      <th>Study_Satisfaction</th>\n",
       "      <th>Job_Satisfaction</th>\n",
       "      <th>Sleep_Duration</th>\n",
       "      <th>Dietary_Habits</th>\n",
       "      <th>Degree</th>\n",
       "      <th>Have_you_ever_had_suicidal_thoughts_</th>\n",
       "      <th>Work_Study_Hours</th>\n",
       "      <th>Financial_Stress</th>\n",
       "      <th>Family_History_of_Mental_Illness</th>\n",
       "      <th>Depression</th>\n",
       "    </tr>\n",
       "    <tr>\n",
       "      <th>id</th>\n",
       "      <th></th>\n",
       "      <th></th>\n",
       "      <th></th>\n",
       "      <th></th>\n",
       "      <th></th>\n",
       "      <th></th>\n",
       "      <th></th>\n",
       "      <th></th>\n",
       "      <th></th>\n",
       "      <th></th>\n",
       "      <th></th>\n",
       "      <th></th>\n",
       "      <th></th>\n",
       "      <th></th>\n",
       "      <th></th>\n",
       "      <th></th>\n",
       "      <th></th>\n",
       "      <th></th>\n",
       "      <th></th>\n",
       "    </tr>\n",
       "  </thead>\n",
       "  <tbody>\n",
       "    <tr>\n",
       "      <th>0</th>\n",
       "      <td>Aaradhya</td>\n",
       "      <td>Female</td>\n",
       "      <td>49.0</td>\n",
       "      <td>Ludhiana</td>\n",
       "      <td>Working Professional</td>\n",
       "      <td>Chef</td>\n",
       "      <td>NaN</td>\n",
       "      <td>5.0</td>\n",
       "      <td>NaN</td>\n",
       "      <td>NaN</td>\n",
       "      <td>2.0</td>\n",
       "      <td>More than 8 hours</td>\n",
       "      <td>Healthy</td>\n",
       "      <td>BHM</td>\n",
       "      <td>No</td>\n",
       "      <td>1.0</td>\n",
       "      <td>2.0</td>\n",
       "      <td>No</td>\n",
       "      <td>0</td>\n",
       "    </tr>\n",
       "    <tr>\n",
       "      <th>1</th>\n",
       "      <td>Vivan</td>\n",
       "      <td>Male</td>\n",
       "      <td>26.0</td>\n",
       "      <td>Varanasi</td>\n",
       "      <td>Working Professional</td>\n",
       "      <td>Teacher</td>\n",
       "      <td>NaN</td>\n",
       "      <td>4.0</td>\n",
       "      <td>NaN</td>\n",
       "      <td>NaN</td>\n",
       "      <td>3.0</td>\n",
       "      <td>Less than 5 hours</td>\n",
       "      <td>Unhealthy</td>\n",
       "      <td>LLB</td>\n",
       "      <td>Yes</td>\n",
       "      <td>7.0</td>\n",
       "      <td>3.0</td>\n",
       "      <td>No</td>\n",
       "      <td>1</td>\n",
       "    </tr>\n",
       "    <tr>\n",
       "      <th>2</th>\n",
       "      <td>Yuvraj</td>\n",
       "      <td>Male</td>\n",
       "      <td>33.0</td>\n",
       "      <td>Visakhapatnam</td>\n",
       "      <td>Student</td>\n",
       "      <td>NaN</td>\n",
       "      <td>5.0</td>\n",
       "      <td>NaN</td>\n",
       "      <td>8.97</td>\n",
       "      <td>2.0</td>\n",
       "      <td>NaN</td>\n",
       "      <td>5-6 hours</td>\n",
       "      <td>Healthy</td>\n",
       "      <td>B.Pharm</td>\n",
       "      <td>Yes</td>\n",
       "      <td>3.0</td>\n",
       "      <td>1.0</td>\n",
       "      <td>No</td>\n",
       "      <td>1</td>\n",
       "    </tr>\n",
       "    <tr>\n",
       "      <th>3</th>\n",
       "      <td>Yuvraj</td>\n",
       "      <td>Male</td>\n",
       "      <td>22.0</td>\n",
       "      <td>Mumbai</td>\n",
       "      <td>Working Professional</td>\n",
       "      <td>Teacher</td>\n",
       "      <td>NaN</td>\n",
       "      <td>5.0</td>\n",
       "      <td>NaN</td>\n",
       "      <td>NaN</td>\n",
       "      <td>1.0</td>\n",
       "      <td>Less than 5 hours</td>\n",
       "      <td>Moderate</td>\n",
       "      <td>BBA</td>\n",
       "      <td>Yes</td>\n",
       "      <td>10.0</td>\n",
       "      <td>1.0</td>\n",
       "      <td>Yes</td>\n",
       "      <td>1</td>\n",
       "    </tr>\n",
       "    <tr>\n",
       "      <th>4</th>\n",
       "      <td>Rhea</td>\n",
       "      <td>Female</td>\n",
       "      <td>30.0</td>\n",
       "      <td>Kanpur</td>\n",
       "      <td>Working Professional</td>\n",
       "      <td>Business Analyst</td>\n",
       "      <td>NaN</td>\n",
       "      <td>1.0</td>\n",
       "      <td>NaN</td>\n",
       "      <td>NaN</td>\n",
       "      <td>1.0</td>\n",
       "      <td>5-6 hours</td>\n",
       "      <td>Unhealthy</td>\n",
       "      <td>BBA</td>\n",
       "      <td>Yes</td>\n",
       "      <td>9.0</td>\n",
       "      <td>4.0</td>\n",
       "      <td>Yes</td>\n",
       "      <td>0</td>\n",
       "    </tr>\n",
       "  </tbody>\n",
       "</table>\n",
       "</div>"
      ],
      "text/plain": [
       "        Name  Gender   Age           City Working_Professional_or_Student  \\\n",
       "id                                                                          \n",
       "0   Aaradhya  Female  49.0       Ludhiana            Working Professional   \n",
       "1      Vivan    Male  26.0       Varanasi            Working Professional   \n",
       "2     Yuvraj    Male  33.0  Visakhapatnam                         Student   \n",
       "3     Yuvraj    Male  22.0         Mumbai            Working Professional   \n",
       "4       Rhea  Female  30.0         Kanpur            Working Professional   \n",
       "\n",
       "          Profession  Academic_Pressure  Work_Pressure  CGPA  \\\n",
       "id                                                             \n",
       "0               Chef                NaN            5.0   NaN   \n",
       "1            Teacher                NaN            4.0   NaN   \n",
       "2                NaN                5.0            NaN  8.97   \n",
       "3            Teacher                NaN            5.0   NaN   \n",
       "4   Business Analyst                NaN            1.0   NaN   \n",
       "\n",
       "    Study_Satisfaction  Job_Satisfaction     Sleep_Duration Dietary_Habits  \\\n",
       "id                                                                           \n",
       "0                  NaN               2.0  More than 8 hours        Healthy   \n",
       "1                  NaN               3.0  Less than 5 hours      Unhealthy   \n",
       "2                  2.0               NaN          5-6 hours        Healthy   \n",
       "3                  NaN               1.0  Less than 5 hours       Moderate   \n",
       "4                  NaN               1.0          5-6 hours      Unhealthy   \n",
       "\n",
       "     Degree Have_you_ever_had_suicidal_thoughts_  Work_Study_Hours  \\\n",
       "id                                                                   \n",
       "0       BHM                                   No               1.0   \n",
       "1       LLB                                  Yes               7.0   \n",
       "2   B.Pharm                                  Yes               3.0   \n",
       "3       BBA                                  Yes              10.0   \n",
       "4       BBA                                  Yes               9.0   \n",
       "\n",
       "    Financial_Stress Family_History_of_Mental_Illness  Depression  \n",
       "id                                                                 \n",
       "0                2.0                               No           0  \n",
       "1                3.0                               No           1  \n",
       "2                1.0                               No           1  \n",
       "3                1.0                              Yes           1  \n",
       "4                4.0                              Yes           0  "
      ]
     },
     "execution_count": 2,
     "metadata": {},
     "output_type": "execute_result"
    }
   ],
   "source": [
    "raw_data.head()"
   ]
  },
  {
   "cell_type": "code",
   "execution_count": 3,
   "id": "6f28e127",
   "metadata": {
    "execution": {
     "iopub.execute_input": "2024-12-19T23:09:47.807025Z",
     "iopub.status.busy": "2024-12-19T23:09:47.806673Z",
     "iopub.status.idle": "2024-12-19T23:09:48.072382Z",
     "shell.execute_reply": "2024-12-19T23:09:48.071084Z"
    },
    "papermill": {
     "duration": 0.277042,
     "end_time": "2024-12-19T23:09:48.074777",
     "exception": false,
     "start_time": "2024-12-19T23:09:47.797735",
     "status": "completed"
    },
    "tags": []
   },
   "outputs": [
    {
     "name": "stdout",
     "output_type": "stream",
     "text": [
      "There are 0 duplicated rows in the train data frame.\n",
      "total columns:  19\n",
      "number of columns with missing values:  9\n",
      "['Profession', 'Academic_Pressure', 'Work_Pressure', 'CGPA', 'Study_Satisfaction', 'Job_Satisfaction', 'Dietary_Habits', 'Degree', 'Financial_Stress']\n",
      "--- Percentage of Missing Values ---\n",
      "Profession            26.034115\n",
      "Academic_Pressure     80.172708\n",
      "Work_Pressure         19.842217\n",
      "CGPA                  80.171997\n",
      "Study_Satisfaction    80.172708\n",
      "Job_Satisfaction      19.836532\n",
      "Dietary_Habits         0.002843\n",
      "Degree                 0.001421\n",
      "Financial_Stress       0.002843\n",
      "dtype: float64\n"
     ]
    }
   ],
   "source": [
    "# fast insights\n",
    "print(f\"There are {sum(raw_data.duplicated())} duplicated rows in the train data frame.\")\n",
    "\n",
    "print('total columns: ', len(raw_data.columns.values))\n",
    "\n",
    "features_with_missing_values = [col for col in raw_data.columns if raw_data[col].isnull().any()]\n",
    "\n",
    "print('number of columns with missing values: ', len(features_with_missing_values))\n",
    "print(features_with_missing_values)\n",
    "print('--- Percentage of Missing Values ---')\n",
    "print(100*raw_data[features_with_missing_values].isnull().sum() / raw_data.shape[0])"
   ]
  },
  {
   "cell_type": "markdown",
   "id": "c8c4e988",
   "metadata": {
    "papermill": {
     "duration": 0.007238,
     "end_time": "2024-12-19T23:09:48.089634",
     "exception": false,
     "start_time": "2024-12-19T23:09:48.082396",
     "status": "completed"
    },
    "tags": []
   },
   "source": [
    "<div style=\"border-radius:12px; border:#b48dda solid; padding: 15px; text-align:left\">\n",
    "    \n",
    "##### Initial observations:\n",
    "* each line identifies a different person, so there is no column that correlates individual records to form a time serie.\n",
    "* name and city columns **will** confuse the model, it's higly unlikely that there is any real correlation between these columns and being depressed.\n",
    "* \"Working_Professional_or_Student\" is a boolean, and it's correlated to \"Profession\" (Student = NaN)\n",
    "* \"Work_Study_Hours\" is the only column based on what they do where students and professionals have a shared value.\n",
    "* \"Work_Pressure\" and \"Academic_Pressure\" could be reduced in a more generic feature \"Pressure\", or just 0filled on missing values.\n",
    "* \"Work_Satisfaction\" and \"Academic_Satisfaction\" could be reduced in a more generic feature \"Satisfaction\", or just 0filled on missing values."
   ]
  },
  {
   "cell_type": "code",
   "execution_count": 4,
   "id": "e4205a55",
   "metadata": {
    "execution": {
     "iopub.execute_input": "2024-12-19T23:09:48.106481Z",
     "iopub.status.busy": "2024-12-19T23:09:48.106008Z",
     "iopub.status.idle": "2024-12-19T23:09:48.385791Z",
     "shell.execute_reply": "2024-12-19T23:09:48.384681Z"
    },
    "papermill": {
     "duration": 0.290955,
     "end_time": "2024-12-19T23:09:48.388258",
     "exception": false,
     "start_time": "2024-12-19T23:09:48.097303",
     "status": "completed"
    },
    "tags": []
   },
   "outputs": [
    {
     "name": "stdout",
     "output_type": "stream",
     "text": [
      "number of missing values on the combined \"pressure\" column:  21\n"
     ]
    },
    {
     "data": {
      "text/plain": [
       "Text(0, 0.5, 'Missing values')"
      ]
     },
     "execution_count": 4,
     "metadata": {},
     "output_type": "execute_result"
    },
    {
     "data": {
      "image/png": "[encoded data removed]",
      "text/plain": [
       "<Figure size 640x480 with 1 Axes>"
      ]
     },
     "metadata": {},
     "output_type": "display_data"
    }
   ],
   "source": [
    "academic_pressure_missing_values = raw_data.loc[raw_data.Academic_Pressure.isnull()]\n",
    "work_pressure_missing_values = raw_data.loc[raw_data.Work_Pressure.isnull()]\n",
    "pressure_missing_values = raw_data.loc[raw_data.Academic_Pressure.isnull() & raw_data.Work_Pressure.isnull()]\n",
    "\n",
    "print('number of missing values on the combined \"pressure\" column: ', len(pressure_missing_values))\n",
    "\n",
    "sns.barplot(\n",
    "    x=[\"academic_pressure\", \"work_pressure\", \"combined_pressure\"], \n",
    "    y=[len(academic_pressure_missing_values), len(work_pressure_missing_values), len(pressure_missing_values)]\n",
    ")\n",
    "plt.ylabel(\"Missing values\")"
   ]
  },
  {
   "cell_type": "code",
   "execution_count": 5,
   "id": "de84a0a0",
   "metadata": {
    "execution": {
     "iopub.execute_input": "2024-12-19T23:09:48.412774Z",
     "iopub.status.busy": "2024-12-19T23:09:48.411817Z",
     "iopub.status.idle": "2024-12-19T23:09:48.680070Z",
     "shell.execute_reply": "2024-12-19T23:09:48.679047Z"
    },
    "papermill": {
     "duration": 0.280306,
     "end_time": "2024-12-19T23:09:48.682288",
     "exception": false,
     "start_time": "2024-12-19T23:09:48.401982",
     "status": "completed"
    },
    "tags": []
   },
   "outputs": [
    {
     "name": "stdout",
     "output_type": "stream",
     "text": [
      "number of missing values on the combined \"satisfaction\" column:  15\n"
     ]
    },
    {
     "data": {
      "text/plain": [
       "Text(0, 0.5, 'Missing values')"
      ]
     },
     "execution_count": 5,
     "metadata": {},
     "output_type": "execute_result"
    },
    {
     "data": {
      "image/png": "[encoded data removed]",
      "text/plain": [
       "<Figure size 640x480 with 1 Axes>"
      ]
     },
     "metadata": {},
     "output_type": "display_data"
    }
   ],
   "source": [
    "study_satisfaction_missing_values = raw_data.loc[raw_data.Study_Satisfaction.isnull()]\n",
    "job_satisfaction_missing_values = raw_data.loc[raw_data.Job_Satisfaction.isnull()]\n",
    "satisfaction_missing_values = raw_data.loc[raw_data.Study_Satisfaction.isnull() & raw_data.Job_Satisfaction.isnull()]\n",
    "print('number of missing values on the combined \"satisfaction\" column: ', len(satisfaction_missing_values))\n",
    "\n",
    "sns.barplot(\n",
    "    x=[\"study_satisfaction\", \"job_satisfaction\", \"combined_satisfaction\"], \n",
    "    y=[len(study_satisfaction_missing_values), len(job_satisfaction_missing_values), len(satisfaction_missing_values)]\n",
    ")\n",
    "plt.ylabel(\"Missing values\")"
   ]
  },
  {
   "cell_type": "markdown",
   "id": "b6bcda70",
   "metadata": {
    "papermill": {
     "duration": 0.008152,
     "end_time": "2024-12-19T23:09:48.699002",
     "exception": false,
     "start_time": "2024-12-19T23:09:48.690850",
     "status": "completed"
    },
    "tags": []
   },
   "source": [
    "<div style=\"border-radius:12px; border:#b48dda solid; padding: 15px; text-align:left\">\n",
    "\n",
    "By joining \"satisfaction\" and \"pressure\" columns, we could greatlty reduce the number of missing values.<br>\n",
    "Being a 1 to 5 scale, remaining missing data could be filled with a \"neutral\" score of 3."
   ]
  },
  {
   "cell_type": "code",
   "execution_count": 6,
   "id": "daf3d213",
   "metadata": {
    "execution": {
     "iopub.execute_input": "2024-12-19T23:09:48.718226Z",
     "iopub.status.busy": "2024-12-19T23:09:48.717152Z",
     "iopub.status.idle": "2024-12-19T23:09:48.908668Z",
     "shell.execute_reply": "2024-12-19T23:09:48.907537Z"
    },
    "papermill": {
     "duration": 0.203542,
     "end_time": "2024-12-19T23:09:48.910987",
     "exception": false,
     "start_time": "2024-12-19T23:09:48.707445",
     "status": "completed"
    },
    "tags": []
   },
   "outputs": [
    {
     "name": "stdout",
     "output_type": "stream",
     "text": [
      "number of missing professions:  36630\n",
      "number of missing profession when the person is not a student:  8763\n",
      "number of students with a profession:  34\n"
     ]
    },
    {
     "data": {
      "text/plain": [
       "([<matplotlib.patches.Wedge at 0x7a3eaf2b3b20>,\n",
       "  <matplotlib.patches.Wedge at 0x7a3eaf2b3a30>],\n",
       " [Text(-0.8036844461683476, 0.7510601247483962, 'students without profession'),\n",
       "  Text(0.8036845516473256, -0.7510600118788361, 'professionals without profession')],\n",
       " [Text(-0.43837333427364406, 0.4096691589536707, '76%'),\n",
       "  Text(0.4383733918076321, -0.40966909738845597, '24%')])"
      ]
     },
     "execution_count": 6,
     "metadata": {},
     "output_type": "execute_result"
    },
    {
     "data": {
      "image/png": "[encoded data removed]",
      "text/plain": [
       "<Figure size 640x480 with 1 Axes>"
      ]
     },
     "metadata": {},
     "output_type": "display_data"
    }
   ],
   "source": [
    "profession_missing_values = len(raw_data.loc[raw_data.Profession.isnull()])\n",
    "profession_missing_values_students = len(raw_data.loc[raw_data.Profession.isnull() & (raw_data.Working_Professional_or_Student == 'Student')])\n",
    "profession_missing_values_not_students = len(raw_data.loc[raw_data.Profession.isnull() & (raw_data.Working_Professional_or_Student == 'Working Professional')])\n",
    "profession_provided_on_students = len(raw_data.loc[raw_data.Profession.notnull() & (raw_data.Working_Professional_or_Student == 'Student')])\n",
    "\n",
    "print('number of missing professions: ', profession_missing_values)\n",
    "print('number of missing profession when the person is not a student: ', profession_missing_values_not_students)\n",
    "print('number of students with a profession: ', profession_provided_on_students)\n",
    "\n",
    "plt.pie(\n",
    "[\n",
    "    profession_missing_values_students*100/profession_missing_values, \n",
    "    profession_missing_values_not_students*100/profession_missing_values\n",
    "], \n",
    "labels = [\"students without profession\", \"professionals without profession\"], \n",
    "autopct='%.0f%%'\n",
    ")"
   ]
  },
  {
   "cell_type": "markdown",
   "id": "258d8089",
   "metadata": {
    "papermill": {
     "duration": 0.009024,
     "end_time": "2024-12-19T23:09:48.929241",
     "exception": false,
     "start_time": "2024-12-19T23:09:48.920217",
     "status": "completed"
    },
    "tags": []
   },
   "source": [
    "<div style=\"border-radius:12px; border:#b48dda solid; padding: 15px; text-align:left\">\n",
    "\n",
    "76% of missing profession values come from students that do not work."
   ]
  },
  {
   "cell_type": "code",
   "execution_count": 7,
   "id": "f0f76a35",
   "metadata": {
    "execution": {
     "iopub.execute_input": "2024-12-19T23:09:48.949657Z",
     "iopub.status.busy": "2024-12-19T23:09:48.949238Z",
     "iopub.status.idle": "2024-12-19T23:09:49.142237Z",
     "shell.execute_reply": "2024-12-19T23:09:49.141120Z"
    },
    "papermill": {
     "duration": 0.206271,
     "end_time": "2024-12-19T23:09:49.144615",
     "exception": false,
     "start_time": "2024-12-19T23:09:48.938344",
     "status": "completed"
    },
    "tags": []
   },
   "outputs": [
    {
     "name": "stdout",
     "output_type": "stream",
     "text": [
      "number of missing cgpa:  112802\n",
      "number of students with missing cgpa:  9\n",
      "number of professionals with missing cgpa:  112793\n",
      "number of professionals with cgpa:  6\n"
     ]
    },
    {
     "data": {
      "text/plain": [
       "([<matplotlib.patches.Wedge at 0x7a3eaf112800>,\n",
       "  <matplotlib.patches.Wedge at 0x7a3eaf112710>],\n",
       " [Text(1.0999999654447683, 0.00027571998252839334, 'students without CGPA'),\n",
       "  Text(-1.0999999654662498, -0.00027563426696066383, 'professionals without CGPA')],\n",
       " [Text(0.5999999811516917, 0.00015039271774276, '0%'),\n",
       "  Text(-0.5999999811634089, -0.0001503459637967257, '100%')])"
      ]
     },
     "execution_count": 7,
     "metadata": {},
     "output_type": "execute_result"
    },
    {
     "data": {
      "image/png": "[encoded data removed]",
      "text/plain": [
       "<Figure size 640x480 with 1 Axes>"
      ]
     },
     "metadata": {},
     "output_type": "display_data"
    }
   ],
   "source": [
    "cgpa_missing_values = len(raw_data.loc[raw_data.CGPA.isnull()])\n",
    "cgpa_students_missing_values = len(raw_data.loc[raw_data.CGPA.isnull() & (raw_data.Working_Professional_or_Student == 'Student')])\n",
    "cgpa_professional_missing_values = len(raw_data.loc[raw_data.CGPA.isnull() & (raw_data.Working_Professional_or_Student == 'Working Professional')])\n",
    "cgpa_professional = len(raw_data.loc[raw_data.CGPA.notnull() & (raw_data.Working_Professional_or_Student == 'Working Professional')])\n",
    "\n",
    "print('number of missing cgpa: ', cgpa_missing_values)\n",
    "print('number of students with missing cgpa: ', cgpa_students_missing_values)\n",
    "print('number of professionals with missing cgpa: ', cgpa_professional_missing_values)\n",
    "print('number of professionals with cgpa: ', cgpa_professional)\n",
    "\n",
    "plt.pie(\n",
    "[\n",
    "    cgpa_students_missing_values*100/cgpa_missing_values, \n",
    "    cgpa_professional_missing_values*100/cgpa_missing_values\n",
    "], \n",
    "labels = [\"students without CGPA\", \"professionals without CGPA\"], \n",
    "autopct='%.0f%%'\n",
    ")"
   ]
  },
  {
   "cell_type": "markdown",
   "id": "6f3dec75",
   "metadata": {
    "papermill": {
     "duration": 0.00966,
     "end_time": "2024-12-19T23:09:49.164153",
     "exception": false,
     "start_time": "2024-12-19T23:09:49.154493",
     "status": "completed"
    },
    "tags": []
   },
   "source": [
    "<div style=\"border-radius:12px; border:#b48dda solid; padding: 15px; text-align:left\">\n",
    "\n",
    "almost all CGPA missing values come from professionals"
   ]
  },
  {
   "cell_type": "code",
   "execution_count": 8,
   "id": "650fd020",
   "metadata": {
    "execution": {
     "iopub.execute_input": "2024-12-19T23:09:49.187804Z",
     "iopub.status.busy": "2024-12-19T23:09:49.186978Z",
     "iopub.status.idle": "2024-12-19T23:09:49.257320Z",
     "shell.execute_reply": "2024-12-19T23:09:49.256208Z"
    },
    "papermill": {
     "duration": 0.085203,
     "end_time": "2024-12-19T23:09:49.259473",
     "exception": false,
     "start_time": "2024-12-19T23:09:49.174270",
     "status": "completed"
    },
    "tags": []
   },
   "outputs": [
    {
     "name": "stdout",
     "output_type": "stream",
     "text": [
      "Sleep duration: ['More than 8 hours' 'Less than 5 hours' '5-6 hours' '7-8 hours'\n",
      " 'Sleep_Duration' '1-2 hours' '6-8 hours' '4-6 hours' '6-7 hours'\n",
      " '10-11 hours' '8-9 hours' '40-45 hours' '9-11 hours' '2-3 hours'\n",
      " '3-4 hours' 'Moderate' '55-66 hours' '4-5 hours' '9-6 hours' '1-3 hours'\n",
      " 'Indore' '45' '1-6 hours' '35-36 hours' '8 hours' 'No' '10-6 hours'\n",
      " 'than 5 hours' '49 hours' 'Unhealthy' 'Work_Study_Hours' '3-6 hours'\n",
      " '45-48 hours' '9-5' 'Pune' '9-5 hours']\n",
      "Professions: ['Chef' 'Teacher' nan 'Business Analyst' 'Finanancial Analyst' 'Chemist'\n",
      " 'Electrician' 'Software Engineer' 'Data Scientist' 'Plumber'\n",
      " 'Marketing Manager' 'Accountant' 'Entrepreneur' 'HR Manager'\n",
      " 'UX/UI Designer' 'Content Writer' 'Educational Consultant'\n",
      " 'Civil Engineer' 'Manager' 'Pharmacist' 'Financial Analyst' 'Architect'\n",
      " 'Mechanical Engineer' 'Customer Support' 'Consultant' 'Judge'\n",
      " 'Researcher' 'Pilot' 'Graphic Designer' 'Travel Consultant'\n",
      " 'Digital Marketer' 'Lawyer' 'Research Analyst' 'Sales Executive' 'Doctor'\n",
      " 'Unemployed' 'Investment Banker' 'Family Consultant' 'B.Com' 'BE'\n",
      " 'Student' 'Yogesh' 'Dev' 'MBA' 'LLM' 'BCA' 'Academic' 'Profession'\n",
      " 'FamilyVirar' 'City Manager' 'BBA' 'Medical Doctor'\n",
      " 'Working Professional' 'MBBS' 'Patna' 'Unveil' 'B.Ed' 'Nagpur' 'Moderate'\n",
      " 'M.Ed' 'Analyst' 'Pranav' 'Visakhapatnam' 'PhD' 'Yuvraj']\n",
      "Diets: ['Healthy' 'Unhealthy' 'Moderate' 'Yes' 'Pratham' 'BSc' 'Gender' '3'\n",
      " 'More Healthy' 'Less than Healthy' 'Mihir' '1.0' 'Hormonal' 'Electrician'\n",
      " nan 'No Healthy' 'Less Healthy' 'M.Tech' 'Vegas' 'No' 'Male' 'Indoor'\n",
      " 'Class 12' '2']\n",
      "Degrees: ['BHM' 'LLB' 'B.Pharm' 'BBA' 'MCA' 'MD' 'BSc' 'ME' 'B.Arch' 'BCA' 'BE'\n",
      " 'MA' 'B.Ed' 'B.Com' 'MBA' 'M.Com' 'MHM' 'BA' 'Class 12' 'M.Tech' 'PhD'\n",
      " 'M.Ed' 'MSc' 'B.Tech' 'LLM' 'MBBS' 'M.Pharm' 'UX/UI Designer' 'MPA' 'BH'\n",
      " 'Nalini' 'BEd' 'B.Sc' 'Veda' 'Bhopal' 'S.Tech' 'Degree' '20' 'Class 11'\n",
      " 'H_Pharm' 'M' 'P.Com' 'BPharm' 'Business Analyst' 'M.Arch' 'LL.Com'\n",
      " 'Data Scientist' 'MPharm' 'L.Ed' 'P.Pharm' 'Kalyan' 'Unite' 'BArch'\n",
      " 'HR Manager' 'Badhya' 'S.Pharm' 'LLBA' 'Vrinda' 'M. Business Analyst'\n",
      " 'Bhavesh' '0' 'LLCom' '29' 'MTech' 'Vivaan' 'BPA' 'Plumber' '5.61' 'Brit'\n",
      " 'B.03' 'Ritik' '5.56' 'MEd' 'B' 'B BA' '7.06' 'B.B.Arch' 'ACA' 'Brithika'\n",
      " 'CGPA' '24' 'M_Tech' 'Pihu' 'BB' 'Jhanvi' 'LLTech' 'Aarav' 'Entrepreneur'\n",
      " '8.56' 'LHM' 'Lata' 'S.Arch' 'Marsh' 'HCA' '5.88' 'B.Student' 'LL B.Ed'\n",
      " 'M.S' 'Navya' 'Mahika' nan 'K.Ed' 'B.3.79' 'Mthanya'\n",
      " 'Working Professional' 'Esha' 'LLS' 'LLEd' 'E.Tech' 'Doctor' 'N.Pharm'\n",
      " 'LCA' 'B B.Com' 'RCA' 'Mihir' 'Advait']\n",
      "Gender: ['Female' 'Male']\n",
      "Thoughts: ['No' 'Yes']\n",
      "Working: ['Working Professional' 'Student']\n",
      "History: ['No' 'Yes']\n"
     ]
    }
   ],
   "source": [
    "# Categorical values\n",
    "print('Sleep duration:',raw_data['Sleep_Duration'].unique())\n",
    "print('Professions:',raw_data['Profession'].unique())\n",
    "print('Diets:',raw_data['Dietary_Habits'].unique())\n",
    "print('Degrees:',raw_data['Degree'].unique())\n",
    "print('Gender:',raw_data['Gender'].unique())\n",
    "print('Thoughts:',raw_data['Have_you_ever_had_suicidal_thoughts_'].unique())\n",
    "print('Working:',raw_data['Working_Professional_or_Student'].unique())\n",
    "print('History:',raw_data['Family_History_of_Mental_Illness'].unique())"
   ]
  },
  {
   "cell_type": "markdown",
   "id": "19b86b3d",
   "metadata": {
    "papermill": {
     "duration": 0.009486,
     "end_time": "2024-12-19T23:09:49.278737",
     "exception": false,
     "start_time": "2024-12-19T23:09:49.269251",
     "status": "completed"
    },
    "tags": []
   },
   "source": [
    "<div style=\"border-radius:12px; border:#b48dda solid; padding: 15px; text-align:left\">\n",
    "\n",
    "There are quite some noisy values on categorical columns, i must say that i'd follow an `Electrician` diet too if i was working as an `Unveil`."
   ]
  },
  {
   "cell_type": "markdown",
   "id": "c0155757",
   "metadata": {
    "papermill": {
     "duration": 0.011144,
     "end_time": "2024-12-19T23:09:49.299468",
     "exception": false,
     "start_time": "2024-12-19T23:09:49.288324",
     "status": "completed"
    },
    "tags": []
   },
   "source": [
    "## <p style=\"padding:15px; background-color:#b48dda; font-family:arial; font-weight:bold; color:white; font-size:100%; letter-spacing: 2px; text-align:left; border-radius: 10px 10px; margin-bottom: -30px; margin-top: 50px;\">Feature Engineering</p>"
   ]
  },
  {
   "cell_type": "markdown",
   "id": "daa98f31",
   "metadata": {
    "papermill": {
     "duration": 0.009497,
     "end_time": "2024-12-19T23:09:49.318827",
     "exception": false,
     "start_time": "2024-12-19T23:09:49.309330",
     "status": "completed"
    },
    "tags": []
   },
   "source": [
    "<div style=\"border-radius:12px; border:#b48dda solid; padding: 15px; text-align:left\">\n",
    "\n",
    "#### Categoricals dictionaries definition"
   ]
  },
  {
   "cell_type": "code",
   "execution_count": 9,
   "id": "baa96796",
   "metadata": {
    "execution": {
     "iopub.execute_input": "2024-12-19T23:09:49.340176Z",
     "iopub.status.busy": "2024-12-19T23:09:49.339734Z",
     "iopub.status.idle": "2024-12-19T23:09:49.350148Z",
     "shell.execute_reply": "2024-12-19T23:09:49.349054Z"
    },
    "papermill": {
     "duration": 0.023586,
     "end_time": "2024-12-19T23:09:49.352218",
     "exception": false,
     "start_time": "2024-12-19T23:09:49.328632",
     "status": "completed"
    },
    "tags": []
   },
   "outputs": [],
   "source": [
    "sleep_dictionary = {\n",
    "    '0': 0,\n",
    "    'No': 0,\n",
    "    '1-2 hours': 1.5,\n",
    "    '1-3 hours': 2,\n",
    "    '2-3 hours': 2.5,\n",
    "    '20-21 hours': 2.5,  # probably per week\n",
    "    'Unhealthy': 3,\n",
    "    '3-4 hours': 3.5,\n",
    "    '3-6 hours': 3.5,\n",
    "    '1-6 hours': 4,\n",
    "    'Less than 5 hours': 4,\n",
    "    '4-5 hours': 4.5,\n",
    "    '4-6 hours': 5,\n",
    "    '35-36 hours': 5,  # probably per week\n",
    "    '5-6 hours': 5.5,\n",
    "    'Moderate': 6,\n",
    "    '45': 6,  # probably per week\n",
    "    '40-45 hours': 6,  # probably per week\n",
    "    '6-7 hours': 6.5,\n",
    "    '45-48 hours': 6.5,  # probably per week\n",
    "    '6-8 hours': 7,\n",
    "    '9-5': 7,\n",
    "    '9-5 hours': 7,\n",
    "    '49 hours': 7,  # probably per week\n",
    "    '7-8 hours': 7.5,\n",
    "    '9-6 hours': 7.5,\n",
    "    '8 hours': 8,\n",
    "    '10-6 hours': 8,\n",
    "    '55-66 hours': 8.5,  # probably per week\n",
    "    '8-89 hours': 8.5,  # probably typo\n",
    "    '8-9 hours': 8.5,\n",
    "    '50-75 hours': 8.5,  # probably per week\n",
    "    'More than 8 hours': 9,\n",
    "    '60-65 hours': 9,  # probably per week\n",
    "    '9-11 hours': 10,\n",
    "    '10-11 hours': 10.5,\n",
    "}\n",
    "\n",
    "diet_dictionary = {\n",
    "    'More Healty': 0,\n",
    "    'Healthy': 1,\n",
    "    '5 Healthy': 1,\n",
    "    'Mealy': 2,\n",
    "    'Less than Healthy': 2,\n",
    "    'Less Healthy': 2,\n",
    "    'Moderate': 3,\n",
    "    '5 Unhealthy': 4,\n",
    "    'Unhealthy': 4,\n",
    "    'No Healthy': 4,\n",
    "}\n",
    "\n",
    "gender_dictionary = {\n",
    "    'Male': 0,\n",
    "    'Female': 1,\n",
    "}\n",
    "\n",
    "student_profession_dictionary = {\n",
    "    'Working Professional': 1,\n",
    "    'Student': 0,\n",
    "}\n",
    "\n",
    "yes_no_dictionary = {\n",
    "    'No': 0,\n",
    "    'Yes': 1,\n",
    "}\n",
    "\n",
    "cols_profession_to_delete = [\n",
    "    'PhD', 'MBBS', 'B.Ed', 'M.Ed', 'BBA', 'MBA', 'LLM', 'BCA', 'B.Com', 'BE', 'Simran', '3M',\n",
    "    'Name', 'No', '24th', 'Unveil', 'Unhealthy', 'Yuvraj', 'Yogesh', 'Patna', 'Nagpur',\n",
    "    'Pranav', 'Visakhapatnam', 'Moderate', 'Manvi', 'Yogesh', 'Samar', 'Surat'\n",
    "]"
   ]
  },
  {
   "cell_type": "markdown",
   "id": "11200f0a",
   "metadata": {
    "papermill": {
     "duration": 0.009444,
     "end_time": "2024-12-19T23:09:49.371466",
     "exception": false,
     "start_time": "2024-12-19T23:09:49.362022",
     "status": "completed"
    },
    "tags": []
   },
   "source": [
    "<div style=\"border-radius:12px; border:#b48dda solid; padding: 15px; text-align:left\">\n",
    "    \n",
    "#### Null values handling"
   ]
  },
  {
   "cell_type": "code",
   "execution_count": 10,
   "id": "b1d4289c",
   "metadata": {
    "execution": {
     "iopub.execute_input": "2024-12-19T23:09:49.392763Z",
     "iopub.status.busy": "2024-12-19T23:09:49.392374Z",
     "iopub.status.idle": "2024-12-19T23:09:49.402426Z",
     "shell.execute_reply": "2024-12-19T23:09:49.401398Z"
    },
    "papermill": {
     "duration": 0.023322,
     "end_time": "2024-12-19T23:09:49.404399",
     "exception": false,
     "start_time": "2024-12-19T23:09:49.381077",
     "status": "completed"
    },
    "tags": []
   },
   "outputs": [],
   "source": [
    "def handle_null(X):\n",
    "    # delete weird professions\n",
    "    X['Profession'] = X['Profession'].mask(X['Profession'].isin(cols_profession_to_delete))\n",
    "\n",
    "    # create \"student\" profession (disabled, confuses the model)\n",
    "    # X.loc[(X['Working_Professional_or_Student'] == 'Student') & (X['Profession'].isnull()), 'Profession'] = 'Student'\n",
    "\n",
    "    # merge satisfaction and pressure columns and 0fill remainings (disabled, confuses the model)\n",
    "    # X['Satisfaction'] = X['Study_Satisfaction'].fillna(X['Job_Satisfaction'])\n",
    "    # X['Pressure'] = X['Academic_Pressure'].fillna(X['Work_Pressure'])\n",
    "    # X['Satisfaction'] = X['Satisfaction'].fillna(0)\n",
    "    # X['Pressure'] = X['Pressure'].fillna(0)\n",
    "    # X.drop(['Study_Satisfaction'], axis=1, inplace=True)\n",
    "    # X.drop(['Job_Satisfaction'], axis=1, inplace=True)\n",
    "    # X.drop(['Academic_Pressure'], axis=1, inplace=True)\n",
    "    # X.drop(['Work_Pressure'], axis=1, inplace=True)\n",
    "\n",
    "    # fill metric numericals with values that make sense (eg: if working, then no study stress)\n",
    "    X['Academic_Pressure'] = X['Academic_Pressure'].fillna(0)\n",
    "    X['Work_Pressure'] = X['Work_Pressure'].fillna(0)\n",
    "    X['Study_Satisfaction'] = X['Study_Satisfaction'].fillna(0)\n",
    "    X['Job_Satisfaction'] = X['Job_Satisfaction'].fillna(0)\n",
    "    X['CGPA'] = X['CGPA'].fillna(-1)  # we want to emphasize that it's a missing value\n",
    "    X['Financial_Stress'] = X['Financial_Stress'].fillna(-1)  # we want to emphasize that it's a missing value\n",
    "\n",
    "    # fill unknown categoricals\n",
    "    X['Profession'] = X['Profession'].fillna('Unknown')\n",
    "    X['Dietary_Habits'] = X['Dietary_Habits'].fillna('Unknown')\n",
    "    X['Degree'] = X['Degree'].fillna('Unknown')\n",
    "\n",
    "    # Assign values based on the dictionaries and set -1 for empty values\n",
    "    X['Sleep_Duration'] = X['Sleep_Duration'].apply(lambda x: sleep_dictionary.get(x, -1) if x != '' else -1)\n",
    "    X['Dietary_Habits'] = X['Dietary_Habits'].apply(lambda x: diet_dictionary.get(x, -1) if x != '' else -1)\n",
    "    X['Gender'] = X['Gender'].apply(lambda x: gender_dictionary.get(x, -1) if x != '' else -1)\n",
    "    X['Have_you_ever_had_suicidal_thoughts_'] = X['Have_you_ever_had_suicidal_thoughts_'].apply(\n",
    "            lambda x: yes_no_dictionary.get(x, -1) if x != '' else -1)\n",
    "    X['Working_Professional_or_Student'] = X['Working_Professional_or_Student'].apply(\n",
    "            lambda x: student_profession_dictionary.get(x, -1) if x != '' else -1)\n",
    "    X['Family_History_of_Mental_Illness'] = X['Family_History_of_Mental_Illness'].apply(\n",
    "            lambda x: yes_no_dictionary.get(x, -1) if x != '' else -1)"
   ]
  },
  {
   "cell_type": "markdown",
   "id": "43034a29",
   "metadata": {
    "papermill": {
     "duration": 0.009381,
     "end_time": "2024-12-19T23:09:49.423718",
     "exception": false,
     "start_time": "2024-12-19T23:09:49.414337",
     "status": "completed"
    },
    "tags": []
   },
   "source": [
    "<div style=\"border-radius:12px; border:#b48dda solid; padding: 15px; text-align:left\">\n",
    "    \n",
    "#### Create new features\n",
    "(Disabled, does not improve CV)"
   ]
  },
  {
   "cell_type": "code",
   "execution_count": 11,
   "id": "a4346c02",
   "metadata": {
    "execution": {
     "iopub.execute_input": "2024-12-19T23:09:49.444631Z",
     "iopub.status.busy": "2024-12-19T23:09:49.444219Z",
     "iopub.status.idle": "2024-12-19T23:09:49.452332Z",
     "shell.execute_reply": "2024-12-19T23:09:49.451194Z"
    },
    "papermill": {
     "duration": 0.021181,
     "end_time": "2024-12-19T23:09:49.454426",
     "exception": false,
     "start_time": "2024-12-19T23:09:49.433245",
     "status": "completed"
    },
    "tags": []
   },
   "outputs": [],
   "source": [
    "def compute_hours_column(row, professional):\n",
    "    if row['Working_Professional_or_Student'] == professional:\n",
    "        return row['Work_Study_Hours']\n",
    "    else:\n",
    "        return 0\n",
    "\n",
    "def compute_work_stress_column(row):\n",
    "    if row['Working_Professional_or_Student'] == 1:\n",
    "        return row['Financial_Stress'] + row['Work_Pressure'] - row['Job_Satisfaction']\n",
    "    else:\n",
    "        return 0\n",
    "\n",
    "def compute_academic_stress_column(row):\n",
    "    if row['Working_Professional_or_Student'] == 0:\n",
    "        return row['Financial_Stress'] + row['Academic_Pressure'] - row['Study_Satisfaction']\n",
    "    else:\n",
    "        return 0\n",
    "\n",
    "def create_features(X):\n",
    "    # create additional stress columns\n",
    "    X['Work_Stress'] = X.apply(lambda row: compute_work_stress_column(row), axis=1)\n",
    "    X['Academic_Stress'] = X.apply(lambda row: compute_academic_stress_column(row), axis=1)\n",
    "    \n",
    "    # distinct study and work hours\n",
    "    X['Work_Hours'] = X.apply(lambda row: compute_hours_column(row, 1), axis=1)\n",
    "    X['Study_Hours'] = X.apply(lambda row: compute_hours_column(row, 0), axis=1)\n",
    "    \n",
    "    X.drop(['Work_Study_Hours'], axis=1, inplace=True)"
   ]
  },
  {
   "cell_type": "markdown",
   "id": "3ec76af0",
   "metadata": {
    "papermill": {
     "duration": 0.009309,
     "end_time": "2024-12-19T23:09:49.473570",
     "exception": false,
     "start_time": "2024-12-19T23:09:49.464261",
     "status": "completed"
    },
    "tags": []
   },
   "source": [
    "<div style=\"border-radius:12px; border:#b48dda solid; padding: 15px; text-align:left\">\n",
    "    \n",
    "#### Drop Misleading featuress\n",
    "Name and City columns **will** confuse the model, it's higly unlikely that there is any real correlation between these columns and being depressed."
   ]
  },
  {
   "cell_type": "code",
   "execution_count": 12,
   "id": "0847b9c6",
   "metadata": {
    "execution": {
     "iopub.execute_input": "2024-12-19T23:09:49.494530Z",
     "iopub.status.busy": "2024-12-19T23:09:49.494093Z",
     "iopub.status.idle": "2024-12-19T23:09:49.499501Z",
     "shell.execute_reply": "2024-12-19T23:09:49.498498Z"
    },
    "papermill": {
     "duration": 0.018593,
     "end_time": "2024-12-19T23:09:49.501740",
     "exception": false,
     "start_time": "2024-12-19T23:09:49.483147",
     "status": "completed"
    },
    "tags": []
   },
   "outputs": [],
   "source": [
    "def drop_features(X):\n",
    "    X.drop(['Name'], axis=1, inplace=True)\n",
    "    X.drop(['City'], axis=1, inplace=True)"
   ]
  },
  {
   "cell_type": "markdown",
   "id": "16256a23",
   "metadata": {
    "papermill": {
     "duration": 0.009468,
     "end_time": "2024-12-19T23:09:49.520979",
     "exception": false,
     "start_time": "2024-12-19T23:09:49.511511",
     "status": "completed"
    },
    "tags": []
   },
   "source": [
    "<div style=\"border-radius:12px; border:#b48dda solid; padding: 15px; text-align:left\">\n",
    "    \n",
    "#### Fix uneven categoricals\n",
    "There are duplicated Professions and Degrees, let's try to address common typing discrepancies"
   ]
  },
  {
   "cell_type": "code",
   "execution_count": 13,
   "id": "644e46ce",
   "metadata": {
    "execution": {
     "iopub.execute_input": "2024-12-19T23:09:49.542144Z",
     "iopub.status.busy": "2024-12-19T23:09:49.541752Z",
     "iopub.status.idle": "2024-12-19T23:09:49.548061Z",
     "shell.execute_reply": "2024-12-19T23:09:49.547054Z"
    },
    "papermill": {
     "duration": 0.01929,
     "end_time": "2024-12-19T23:09:49.549995",
     "exception": false,
     "start_time": "2024-12-19T23:09:49.530705",
     "status": "completed"
    },
    "tags": []
   },
   "outputs": [],
   "source": [
    "def fix_name(degree):\n",
    "    # if it's not a string, do nothing\n",
    "    if not isinstance(degree, str):\n",
    "        return degree\n",
    "\n",
    "    # remove special characters\n",
    "    degree = re.sub('[^A-Za-z0-9_]+', '', degree)\n",
    "\n",
    "    # lowercase\n",
    "    degree = degree.lower()\n",
    "\n",
    "    return degree\n",
    "\n",
    "def fix_categoricals(X):\n",
    "    # standardize names to avoid duplicates and misspellings\n",
    "    X['Degree'] = X['Degree'].apply(fix_name)\n",
    "    X['Profession'] = X['Profession'].apply(fix_name)"
   ]
  },
  {
   "cell_type": "markdown",
   "id": "cc1be818",
   "metadata": {
    "papermill": {
     "duration": 0.009608,
     "end_time": "2024-12-19T23:09:49.569483",
     "exception": false,
     "start_time": "2024-12-19T23:09:49.559875",
     "status": "completed"
    },
    "tags": []
   },
   "source": [
    "<div style=\"border-radius:12px; border:#b48dda solid; padding: 15px; text-align:left\">\n",
    "\n",
    "Apply data transformation and assess new data shape"
   ]
  },
  {
   "cell_type": "code",
   "execution_count": 14,
   "id": "0f729722",
   "metadata": {
    "execution": {
     "iopub.execute_input": "2024-12-19T23:09:49.590730Z",
     "iopub.status.busy": "2024-12-19T23:09:49.590371Z",
     "iopub.status.idle": "2024-12-19T23:09:50.455903Z",
     "shell.execute_reply": "2024-12-19T23:09:50.454753Z"
    },
    "papermill": {
     "duration": 0.879217,
     "end_time": "2024-12-19T23:09:50.458418",
     "exception": false,
     "start_time": "2024-12-19T23:09:49.579201",
     "status": "completed"
    },
    "tags": []
   },
   "outputs": [],
   "source": [
    "from src.pipelines.mental_health_dt_pipeline import MentalHealthDTPipeline\n",
    "\n",
    "def preprocess_data(X: DataFrame):\n",
    "    handle_null(X)\n",
    "    # self.create_features(X)  # Disabled, does not improve CV\n",
    "    drop_features(X)\n",
    "    fix_categoricals(X)\n",
    "\n",
    "preprocess_data(X)\n",
    "\n",
    "# select project's pipeline (just encode)\n",
    "pipeline = MentalHealthDTPipeline(X)"
   ]
  },
  {
   "cell_type": "code",
   "execution_count": 15,
   "id": "ca96c826",
   "metadata": {
    "execution": {
     "iopub.execute_input": "2024-12-19T23:09:50.480682Z",
     "iopub.status.busy": "2024-12-19T23:09:50.479846Z",
     "iopub.status.idle": "2024-12-19T23:09:50.506071Z",
     "shell.execute_reply": "2024-12-19T23:09:50.504915Z"
    },
    "papermill": {
     "duration": 0.039496,
     "end_time": "2024-12-19T23:09:50.508124",
     "exception": false,
     "start_time": "2024-12-19T23:09:50.468628",
     "status": "completed"
    },
    "tags": []
   },
   "outputs": [
    {
     "name": "stdout",
     "output_type": "stream",
     "text": [
      "number of columns with missing values:  0\n",
      "[]\n",
      "--- Percentage of Missing Values ---\n",
      "Series([], dtype: float64)\n"
     ]
    }
   ],
   "source": [
    "features_with_missing_values = [col for col in X.columns if X[col].isnull().any()]\n",
    "\n",
    "print('number of columns with missing values: ', len(features_with_missing_values))\n",
    "print(features_with_missing_values)\n",
    "print('--- Percentage of Missing Values ---')\n",
    "print(100*X[features_with_missing_values].isnull().sum() / X.shape[0])"
   ]
  },
  {
   "cell_type": "markdown",
   "id": "330fe0c1",
   "metadata": {
    "papermill": {
     "duration": 0.009404,
     "end_time": "2024-12-19T23:09:50.527196",
     "exception": false,
     "start_time": "2024-12-19T23:09:50.517792",
     "status": "completed"
    },
    "tags": []
   },
   "source": [
    "## <p style=\"padding:15px; background-color:#b48dda; font-family:arial; font-weight:bold; color:white; font-size:100%; letter-spacing: 2px; text-align:left; border-radius: 10px 10px; margin-bottom: -30px; margin-top: 50px;\">Train model</p>"
   ]
  },
  {
   "cell_type": "code",
   "execution_count": 16,
   "id": "c14281bc",
   "metadata": {
    "execution": {
     "iopub.execute_input": "2024-12-19T23:09:50.548819Z",
     "iopub.status.busy": "2024-12-19T23:09:50.547918Z",
     "iopub.status.idle": "2024-12-19T23:11:00.034857Z",
     "shell.execute_reply": "2024-12-19T23:11:00.033580Z"
    },
    "papermill": {
     "duration": 69.500337,
     "end_time": "2024-12-19T23:11:00.037289",
     "exception": false,
     "start_time": "2024-12-19T23:09:50.536952",
     "status": "completed"
    },
    "tags": []
   },
   "outputs": [
    {
     "name": "stdout",
     "output_type": "stream",
     "text": [
      "Cross-Validation AUC: 0.9754892339767443\n",
      "Optimal iterations:  596\n",
      "Generating AUC with optimal iterations\n",
      "Cross-Validation AUC: 0.9754703179634794\n",
      "Optimal iterations:  596\n"
     ]
    }
   ],
   "source": [
    "model_type = XGBClassifierWrapper(early_stopping_rounds=50)\n",
    "trainer = CachedAccurateCrossTrainer(pipeline, model_type, X, y, metric=AccuracyMetric.AUC)\n",
    "# optimizer = CustomGridOptimizer(trainer, model_type, direction=OptimizationDirection.MAXIMIZE)\n",
    "optimized_params = {\n",
    "    'objective': 'binary:logistic', \n",
    "    'eval_metric': 'auc', \n",
    "    'learning_rate': 0.03, \n",
    "    'max_depth': 5, \n",
    "    'min_child_weight': 5, \n",
    "    'gamma': 0.3, \n",
    "    'subsample': 0.6, \n",
    "    'colsample_bytree': 0.7, \n",
    "    'scale_pos_weight': 1, \n",
    "    'n_jobs': -1, \n",
    "    'reg_alpha': 0\n",
    "}\n",
    "\n",
    "\n",
    "_, iterations, _ = trainer.validate_model(X, y, log_level=1, params=optimized_params)"
   ]
  },
  {
   "cell_type": "code",
   "execution_count": 17,
   "id": "c11714ea",
   "metadata": {
    "execution": {
     "iopub.execute_input": "2024-12-19T23:11:00.059205Z",
     "iopub.status.busy": "2024-12-19T23:11:00.058763Z",
     "iopub.status.idle": "2024-12-19T23:11:00.641626Z",
     "shell.execute_reply": "2024-12-19T23:11:00.640563Z"
    },
    "papermill": {
     "duration": 0.597081,
     "end_time": "2024-12-19T23:11:00.644542",
     "exception": false,
     "start_time": "2024-12-19T23:11:00.047461",
     "status": "completed"
    },
    "tags": []
   },
   "outputs": [
    {
     "name": "stdout",
     "output_type": "stream",
     "text": [
      "                                        feats  importance\n",
      "0   num__Have_you_ever_had_suicidal_thoughts_   26.838163\n",
      "1                      num__Academic_Pressure   22.384621\n",
      "2                                    num__Age   17.423153\n",
      "3                             cat__Profession    7.268248\n",
      "4                       num__Financial_Stress    5.316430\n",
      "5                          num__Work_Pressure    4.676999\n",
      "6                       num__Job_Satisfaction    4.053908\n",
      "7        num__Working_Professional_or_Student    2.917577\n",
      "8                         num__Dietary_Habits    2.208006\n",
      "9                       num__Work_Study_Hours    1.941538\n",
      "10                    num__Study_Satisfaction    1.394769\n",
      "11                        num__Sleep_Duration    1.198045\n",
      "12      num__Family_History_of_Mental_Illness    0.645550\n",
      "13                                  num__CGPA    0.627964\n",
      "14                                cat__Degree    0.615127\n",
      "15                                num__Gender    0.489907\n"
     ]
    },
    {
     "data": {
      "image/png": "[encoded data removed]",
      "text/plain": [
       "<Figure size 1200x800 with 1 Axes>"
      ]
     },
     "metadata": {},
     "output_type": "display_data"
    }
   ],
   "source": [
    "trainer.show_feature_importance(X)"
   ]
  },
  {
   "cell_type": "code",
   "execution_count": 18,
   "id": "15ba71a5",
   "metadata": {
    "execution": {
     "iopub.execute_input": "2024-12-19T23:11:00.669616Z",
     "iopub.status.busy": "2024-12-19T23:11:00.668706Z",
     "iopub.status.idle": "2024-12-19T23:11:00.951138Z",
     "shell.execute_reply": "2024-12-19T23:11:00.949853Z"
    },
    "papermill": {
     "duration": 0.297157,
     "end_time": "2024-12-19T23:11:00.953444",
     "exception": false,
     "start_time": "2024-12-19T23:11:00.656287",
     "status": "completed"
    },
    "tags": []
   },
   "outputs": [
    {
     "data": {
      "image/png": "[encoded data removed]",
      "text/plain": [
       "<Figure size 1200x600 with 1 Axes>"
      ]
     },
     "metadata": {},
     "output_type": "display_data"
    }
   ],
   "source": [
    "trainer.show_loss()"
   ]
  },
  {
   "cell_type": "markdown",
   "id": "4e896aab",
   "metadata": {
    "papermill": {
     "duration": 0.011365,
     "end_time": "2024-12-19T23:11:00.976874",
     "exception": false,
     "start_time": "2024-12-19T23:11:00.965509",
     "status": "completed"
    },
    "tags": []
   },
   "source": [
    "## <p style=\"padding:15px; background-color:#b48dda; font-family:arial; font-weight:bold; color:white; font-size:100%; letter-spacing: 2px; text-align:left; border-radius: 10px 10px; margin-bottom: -30px; margin-top: 50px;\">Train complete model on all data</p>"
   ]
  },
  {
   "cell_type": "code",
   "execution_count": 19,
   "id": "1bbef9fc",
   "metadata": {
    "execution": {
     "iopub.execute_input": "2024-12-19T23:11:01.001906Z",
     "iopub.status.busy": "2024-12-19T23:11:01.001508Z",
     "iopub.status.idle": "2024-12-19T23:11:06.142348Z",
     "shell.execute_reply": "2024-12-19T23:11:06.141373Z"
    },
    "papermill": {
     "duration": 5.156349,
     "end_time": "2024-12-19T23:11:06.144843",
     "exception": false,
     "start_time": "2024-12-19T23:11:00.988494",
     "status": "completed"
    },
    "tags": []
   },
   "outputs": [],
   "source": [
    "complete_model = trainer.train_model(X, y, iterations=iterations, params=optimized_params)"
   ]
  },
  {
   "cell_type": "markdown",
   "id": "f8b86fd4",
   "metadata": {
    "papermill": {
     "duration": 0.011708,
     "end_time": "2024-12-19T23:11:06.168752",
     "exception": false,
     "start_time": "2024-12-19T23:11:06.157044",
     "status": "completed"
    },
    "tags": []
   },
   "source": [
    "## <p style=\"padding:15px; background-color:#b48dda; font-family:arial; font-weight:bold; color:white; font-size:100%; letter-spacing: 2px; text-align:left; border-radius: 10px 10px; margin-bottom: -30px; margin-top: 50px;\">Make predictions on the competition data, and generate submission</p>"
   ]
  },
  {
   "cell_type": "code",
   "execution_count": 20,
   "id": "11d9781a",
   "metadata": {
    "execution": {
     "iopub.execute_input": "2024-12-19T23:11:06.194001Z",
     "iopub.status.busy": "2024-12-19T23:11:06.193595Z",
     "iopub.status.idle": "2024-12-19T23:11:07.789200Z",
     "shell.execute_reply": "2024-12-19T23:11:07.787848Z"
    },
    "papermill": {
     "duration": 1.610958,
     "end_time": "2024-12-19T23:11:07.791556",
     "exception": false,
     "start_time": "2024-12-19T23:11:06.180598",
     "status": "completed"
    },
    "tags": []
   },
   "outputs": [
    {
     "name": "stdout",
     "output_type": "stream",
     "text": [
      "       id  Depression\n",
      "0  140700           0\n",
      "1  140701           0\n",
      "2  140702           0\n",
      "3  140703           1\n",
      "4  140704           0\n",
      "5  140705           0\n",
      "6  140706           0\n",
      "7  140707           0\n",
      "8  140708           0\n",
      "9  140709           1\n"
     ]
    }
   ],
   "source": [
    "# Load the data\n",
    "test_data_path = '/kaggle/input/playground-series-s4e11/test.csv'\n",
    "test_data = pd.read_csv(test_data_path, index_col='id')\n",
    "\n",
    "# standardize column names\n",
    "test_data = test_data.rename(columns = lambda x:re.sub('[^A-Za-z0-9_]+', '_', x))\n",
    "\n",
    "\n",
    "# preprocess data\n",
    "preprocess_data(test_data)\n",
    "# apply pipeline\n",
    "processed_test_data = pipeline.transform(test_data)\n",
    "\n",
    "# make predictions which we will submit. \n",
    "test_preds = complete_model.predict(processed_test_data)\n",
    "\n",
    "# Save predictions in the format used for competition scoring\n",
    "output = pd.DataFrame({'id': test_data.index,\n",
    "                       'Depression': test_preds})\n",
    "print(output.head(10))\n",
    "output.to_csv('submission.csv', index=False)"
   ]
  }
 ],
 "metadata": {
  "kaggle": {
   "accelerator": "none",
   "dataSources": [
    {
     "databundleVersionId": 10008389,
     "sourceId": 84895,
     "sourceType": "competition"
    }
   ],
   "dockerImageVersionId": 30786,
   "isGpuEnabled": false,
   "isInternetEnabled": true,
   "language": "python",
   "sourceType": "notebook"
  },
  "kernelspec": {
   "display_name": "Python 3",
   "language": "python",
   "name": "python3"
  },
  "language_info": {
   "codemirror_mode": {
    "name": "ipython",
    "version": 3
   },
   "file_extension": ".py",
   "mimetype": "text/x-python",
   "name": "python",
   "nbconvert_exporter": "python",
   "pygments_lexer": "ipython3",
   "version": "3.10.14"
  },
  "papermill": {
   "default_parameters": {},
   "duration": 175.692545,
   "end_time": "2024-12-19T23:11:09.328286",
   "environment_variables": {},
   "exception": null,
   "input_path": "__notebook__.ipynb",
   "output_path": "__notebook__.ipynb",
   "parameters": {},
   "start_time": "2024-12-19T23:08:13.635741",
   "version": "2.6.0"
  }
 },
 "nbformat": 4,
 "nbformat_minor": 5
}
